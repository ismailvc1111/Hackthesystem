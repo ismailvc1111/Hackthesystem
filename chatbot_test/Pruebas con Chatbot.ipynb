{
 "cells": [
  {
   "cell_type": "markdown",
   "id": "35da6ee5",
   "metadata": {},
   "source": [
    "### Chatbot"
   ]
  },
  {
   "cell_type": "code",
   "execution_count": 1,
   "id": "36aaca61",
   "metadata": {},
   "outputs": [],
   "source": [
    "# Python 3.7\n",
    "#!pip install chatterbot\n",
    "#!pip install chatterbot_corpus\n",
    "#!pip install gtts\n",
    "#!python3 -m spacy download es\n",
    "#!pip install spacy==2.3.5\n",
    "#!python -m spacy download es_core_news_lg"
   ]
  },
  {
   "cell_type": "code",
   "execution_count": 13,
   "id": "11f6fb3e",
   "metadata": {},
   "outputs": [],
   "source": [
    "import os\n",
    "# Chatterbot\n",
    "from chatterbot import ChatBot\n",
    "from chatterbot.trainers import ListTrainer, ChatterBotCorpusTrainer\n",
    "import es_core_news_lg\n",
    "nlp = es_core_news_lg.load()\n",
    "# TTS\n",
    "from gtts import gTTS\n",
    "from gtts.tokenizer import pre_processors, tokenizer_cases\n",
    "import gtts.tokenizer.symbols\n",
    "\n",
    "class my_bot:\n",
    "    def __init__(self, name='IA'):\n",
    "        # Nuestro chatBot\n",
    "        self.chatbot = ChatBot(name, logic_adapters=['chatterbot.logic.MathematicalEvaluation', 'chatterbot.logic.BestMatch'])\n",
    "        # Text_to_speech\n",
    "        self.tts_train_symbols()\n",
    "        self.tok = self.tts_token()\n",
    "        \n",
    "    def chatbot_basic_train(self):\n",
    "        # Entrenamiento básico (compus)\n",
    "        trainer = ChatterBotCorpusTrainer(self.chatbot)\n",
    "        trainer.train(\n",
    "            \"chatterbot.corpus.spanish.greetings\",\n",
    "            \"chatterbot.corpus.spanish.conversations\")\n",
    "        \n",
    "    def chatbot_spec_train(self, filename):\n",
    "        # Entrenamiento específico\n",
    "        trainer = ChatterBotCorpusTrainer(self.chatbot)\n",
    "        trainer.train(filename)\n",
    "        \n",
    "    def chatbot_forget(self):\n",
    "        self.chatbot.storage.drop()\n",
    "        \n",
    "    def chatbot_response(self, query):\n",
    "        response = self.chatbot.get_response(query)\n",
    "        return response\n",
    "    \n",
    "    def tts_train_symbols(self):\n",
    "        cod_text = [(\",\", \"coma,\"), \n",
    "                    (\".\", \"punto,\"), \n",
    "                    (\";\", \"punto y coma,\"), \n",
    "                    (\":\", \"dos puntos,\"), \n",
    "                    (\"(\", \"abrimos paréntesis,\"),\n",
    "                    (\")\", \"cerramos paréntesis,\")]\n",
    "        for item in cod_text:\n",
    "            gtts.tokenizer.symbols.SUB_PAIRS.append(item)\n",
    "            \n",
    "    def tts_token(self):\n",
    "        return gtts.tokenizer.core.Tokenizer([\n",
    "            tokenizer_cases.tone_marks,\n",
    "            tokenizer_cases.period_comma,\n",
    "            tokenizer_cases.other_punctuation])\n",
    "    \n",
    "    def tts_say_this(self, string, filename='say.mp3'):\n",
    "        string = pre_processors.word_sub(string)\n",
    "        gtts = gTTS(text=string, lang='es', tokenizer_func=self.tok)\n",
    "        gtts.save(filename) \n",
    "        \n",
    "    \n",
    "    def chatbot_response_to_mp3(self, query, 'response.mp3'):\n",
    "        response = self.chatbot_response(query)\n",
    "        query = pre_processors.word_sub(response.text)\n",
    "        gtts = gTTS(text=query, lang='es', tokenizer_func=self.tok)\n",
    "        gtts.save(filename) \n",
    "\n",
    "# Ejemplo de uso\n",
    "# bot = my_bot()\n",
    "# bot.chatbot_basic_train()\n",
    "# bot.chatbot_response_to_mp3('Hola, ¿qué tal?', 'test.mp3')"
   ]
  },
  {
   "cell_type": "code",
   "execution_count": 14,
   "id": "3268b17e",
   "metadata": {},
   "outputs": [
    {
     "name": "stdout",
     "output_type": "stream",
     "text": [
      "Training custom.yml: [####################] 100%\n"
     ]
    }
   ],
   "source": [
    "# Ejemplo de uso\n",
    "bot = my_bot()\n",
    "bot.chatbot_forget()\n",
    "bot.chatbot_spec_train(filename='./spanish/custom.yml')\n",
    "#bot.chatbot_response_to_mp3('Hola, ¿qué tal?', 'test.mp3')"
   ]
  },
  {
   "cell_type": "markdown",
   "id": "5890e4f1",
   "metadata": {},
   "source": [
    "* SpeechRecognition"
   ]
  },
  {
   "cell_type": "code",
   "execution_count": null,
   "id": "2c774d8c",
   "metadata": {},
   "outputs": [],
   "source": [
    "#!pip install SpeechRecognition"
   ]
  },
  {
   "cell_type": "code",
   "execution_count": null,
   "id": "b9ceb1f2",
   "metadata": {},
   "outputs": [],
   "source": [
    "!pip3 install pyaudio"
   ]
  },
  {
   "cell_type": "code",
   "execution_count": null,
   "id": "522088ad",
   "metadata": {},
   "outputs": [],
   "source": [
    "import speech_recognition as sr\n",
    "import pyaudio"
   ]
  },
  {
   "cell_type": "code",
   "execution_count": null,
   "id": "8b612155",
   "metadata": {},
   "outputs": [],
   "source": [
    "!python3 -m pip install sounddevice && python3 -m sounddevice"
   ]
  },
  {
   "cell_type": "code",
   "execution_count": null,
   "id": "064cee05",
   "metadata": {},
   "outputs": [],
   "source": [
    "def listen():\n",
    "    micph = sr.Microphone()\n",
    "    with micph as source:\n",
    "        print(\"Ahora puedes hablar\")\n",
    "        r.adjust_for_ambient_noise(source)\n",
    "        audio = r.listen(source)\n",
    "\n",
    "    print(\"Translating your speech...\")\n",
    "\n",
    "    print(\"You said: \" + r.recognize_google(audio))"
   ]
  },
  {
   "cell_type": "code",
   "execution_count": null,
   "id": "06c7244a",
   "metadata": {},
   "outputs": [],
   "source": [
    "listener = sr.Recognizer()\n",
    "try:\n",
    "    with sr.Microphone() as source:\n",
    "        voice = listener.listen(source)\n",
    "        rec = listener.recognize_google(voice)\n",
    "        pint(rec)\n",
    "except:\n",
    "    pass\n"
   ]
  },
  {
   "cell_type": "code",
   "execution_count": null,
   "id": "5bac10f1",
   "metadata": {},
   "outputs": [],
   "source": [
    "import speech_recognition as sr\n",
    "\n",
    "r = sr.Recognizer()\n",
    "\n",
    "with sr.Microphone() as source:\n",
    "    print(\"Ahora puedes hablar\")\n",
    "    r.adjust_for_ambient_noise(source)\n",
    "    audio = r.listen(source)\n",
    "print(\"Translating your speech...\")\n",
    "\n",
    "r.recognize_google(audio, language='es-ES')\n",
    "print(\"You said: \" + r.recognize_google(audio))\n",
    "\n",
    "\n"
   ]
  },
  {
   "cell_type": "code",
   "execution_count": null,
   "id": "06cc1387",
   "metadata": {},
   "outputs": [],
   "source": []
  }
 ],
 "metadata": {
  "kernelspec": {
   "display_name": "Python 3 (ipykernel)",
   "language": "python",
   "name": "python3"
  },
  "language_info": {
   "codemirror_mode": {
    "name": "ipython",
    "version": 3
   },
   "file_extension": ".py",
   "mimetype": "text/x-python",
   "name": "python",
   "nbconvert_exporter": "python",
   "pygments_lexer": "ipython3",
   "version": "3.7.11"
  }
 },
 "nbformat": 4,
 "nbformat_minor": 5
}
