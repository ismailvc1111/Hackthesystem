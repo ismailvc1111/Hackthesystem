{
 "cells": [
  {
   "cell_type": "markdown",
   "id": "35da6ee5",
   "metadata": {},
   "source": [
    "### Chatbot"
   ]
  },
  {
   "cell_type": "code",
   "execution_count": 3,
   "id": "36aaca61",
   "metadata": {},
   "outputs": [],
   "source": [
    "# Python 3.7\n",
    "#!pip install chatterbot\n",
    "#!pip install chatterbot_corpus\n",
    "#!python3 -m spacy download es\n",
    "#!pip install spacy==2.3.5\n",
    "#!python -m spacy download es_core_news_lg"
   ]
  },
  {
   "cell_type": "code",
   "execution_count": 6,
   "id": "6b498620",
   "metadata": {},
   "outputs": [],
   "source": [
    "from chatterbot import ChatBot\n",
    "from chatterbot.trainers import ListTrainer, ChatterBotCorpusTrainer\n",
    "import es_core_news_lg\n",
    "nlp = es_core_news_lg.load()"
   ]
  },
  {
   "cell_type": "code",
   "execution_count": 132,
   "id": "48b97ed0",
   "metadata": {},
   "outputs": [
    {
     "name": "stdout",
     "output_type": "stream",
     "text": [
      "Training greetings.yml: [####################] 100%\n",
      "Training conversations.yml: [####################] 100%\n",
      "List Trainer: [####################] 100%\n",
      "Saludos\n"
     ]
    }
   ],
   "source": [
    "# Nuestro Bot\n",
    "bot = ChatBot('IA', logic_adapters=['chatterbot.logic.MathematicalEvaluation', 'chatterbot.logic.BestMatch'])\n",
    "\n",
    "# Entrenamiento básico (compus)\n",
    "trainer = ChatterBotCorpusTrainer(bot)\n",
    "trainer.train(\n",
    "    \"chatterbot.corpus.spanish.greetings\",\n",
    "    \"chatterbot.corpus.spanish.conversations\"\n",
    ")\n",
    "\n",
    "# Entrenamiento específico\n",
    "# lista = open('conoc.txt', 'r').readlines()\n",
    "\n",
    "trainer = ListTrainer(bot)\n",
    "trainer.train(['Hola', '¿Que tal?', \n",
    "               'tengo una pregunta', 'si, dime', \n",
    "               '¿Como es la estructura del bucle for?', 'Sería con for(i in range(): y lo que quieras dentro del bucle)',\n",
    "               'Gracias', 'De nada'])\n",
    "\n",
    "response = bot.get_response(\"Hola\")\n",
    "\n",
    "print(response)"
   ]
  },
  {
   "cell_type": "code",
   "execution_count": null,
   "id": "174d9b17",
   "metadata": {},
   "outputs": [],
   "source": [
    "# Preguntas y respuestas\n",
    "response = bot.get_response(\"Hola\")\n",
    "print(response)"
   ]
  },
  {
   "cell_type": "code",
   "execution_count": 2,
   "id": "ff47a354",
   "metadata": {},
   "outputs": [],
   "source": [
    "# Resetea el Bot\n",
    "def bot_brain_reset():\n",
    "    chatbot = ChatBot(\"IA\")\n",
    "    chatbot.storage.drop()"
   ]
  },
  {
   "cell_type": "code",
   "execution_count": null,
   "id": "047a719f",
   "metadata": {},
   "outputs": [],
   "source": [
    "# Conversación\n",
    "def bot_talk(cadena):\n",
    "    response = bot.get_response(cadena)\n",
    "    return response"
   ]
  },
  {
   "cell_type": "code",
   "execution_count": 34,
   "id": "04cf546a",
   "metadata": {},
   "outputs": [
    {
     "name": "stdout",
     "output_type": "stream",
     "text": [
      "¿cómo estas?\n"
     ]
    },
    {
     "data": {
      "text/plain": [
       "<Statement text:¿Como es la estructura del bucle?>"
      ]
     },
     "execution_count": 34,
     "metadata": {},
     "output_type": "execute_result"
    }
   ],
   "source": [
    "bot_talk(input())"
   ]
  },
  {
   "cell_type": "code",
   "execution_count": 134,
   "id": "47207be7",
   "metadata": {},
   "outputs": [],
   "source": [
    "response = bot.get_response('hola')"
   ]
  },
  {
   "cell_type": "code",
   "execution_count": 137,
   "id": "2d671d25",
   "metadata": {},
   "outputs": [
    {
     "ename": "TypeError",
     "evalue": "'str' object is not callable",
     "output_type": "error",
     "traceback": [
      "\u001b[0;31m---------------------------------------------------------------------------\u001b[0m",
      "\u001b[0;31mTypeError\u001b[0m                                 Traceback (most recent call last)",
      "\u001b[0;32m/tmp/ipykernel_1137/1243776285.py\u001b[0m in \u001b[0;36m<module>\u001b[0;34m\u001b[0m\n\u001b[0;32m----> 1\u001b[0;31m \u001b[0mresponse\u001b[0m\u001b[0;34m.\u001b[0m\u001b[0mtext\u001b[0m\u001b[0;34m(\u001b[0m\u001b[0;34m)\u001b[0m\u001b[0;34m\u001b[0m\u001b[0;34m\u001b[0m\u001b[0m\n\u001b[0m",
      "\u001b[0;31mTypeError\u001b[0m: 'str' object is not callable"
     ]
    }
   ],
   "source": [
    "response.text"
   ]
  },
  {
   "cell_type": "markdown",
   "id": "73c84eb4",
   "metadata": {},
   "source": [
    "### Text to Speech"
   ]
  },
  {
   "cell_type": "markdown",
   "id": "f32361dc",
   "metadata": {},
   "source": [
    "* Opción 1 pyttsx3"
   ]
  },
  {
   "cell_type": "code",
   "execution_count": 25,
   "id": "902544f1",
   "metadata": {},
   "outputs": [],
   "source": [
    "#!pip install pyttsx3\n",
    "#!sudo apt install espeak"
   ]
  },
  {
   "cell_type": "code",
   "execution_count": 26,
   "id": "5400081d",
   "metadata": {},
   "outputs": [],
   "source": [
    "import pyttsx3"
   ]
  },
  {
   "cell_type": "code",
   "execution_count": 57,
   "id": "3ebd85ea",
   "metadata": {},
   "outputs": [],
   "source": [
    "# Inicializo motor\n",
    "engine = pyttsx3.init()\n",
    "\n",
    "# Elegimos voz\n",
    "voices = engine.getProperty('voices')\n",
    "engine.setProperty('voice', voices[20].id)\n",
    "rate = engine.getProperty('rate')\n",
    "engine.setProperty('rate', rate+15)"
   ]
  },
  {
   "cell_type": "code",
   "execution_count": 55,
   "id": "6d83167e",
   "metadata": {},
   "outputs": [
    {
     "data": {
      "text/plain": [
       "'spanish'"
      ]
     },
     "execution_count": 55,
     "metadata": {},
     "output_type": "execute_result"
    }
   ],
   "source": [
    "voices[20].name"
   ]
  },
  {
   "cell_type": "code",
   "execution_count": 58,
   "id": "2fcd6ad5",
   "metadata": {},
   "outputs": [
    {
     "name": "stderr",
     "output_type": "stream",
     "text": [
      "sh: 1: aplay: not found\n"
     ]
    },
    {
     "ename": "KeyboardInterrupt",
     "evalue": "",
     "output_type": "error",
     "traceback": [
      "\u001b[0;31m---------------------------------------------------------------------------\u001b[0m",
      "\u001b[0;31mKeyboardInterrupt\u001b[0m                         Traceback (most recent call last)",
      "\u001b[0;32m/tmp/ipykernel_1137/2785173165.py\u001b[0m in \u001b[0;36m<module>\u001b[0;34m\u001b[0m\n\u001b[1;32m      1\u001b[0m \u001b[0mengine\u001b[0m\u001b[0;34m.\u001b[0m\u001b[0msay\u001b[0m\u001b[0;34m(\u001b[0m\u001b[0;34m\"Hola\"\u001b[0m\u001b[0;34m)\u001b[0m\u001b[0;34m\u001b[0m\u001b[0;34m\u001b[0m\u001b[0m\n\u001b[0;32m----> 2\u001b[0;31m \u001b[0mengine\u001b[0m\u001b[0;34m.\u001b[0m\u001b[0mrunAndWait\u001b[0m\u001b[0;34m(\u001b[0m\u001b[0;34m)\u001b[0m\u001b[0;34m\u001b[0m\u001b[0;34m\u001b[0m\u001b[0m\n\u001b[0m",
      "\u001b[0;32m~/anaconda3/envs/chatbot/lib/python3.7/site-packages/pyttsx3/engine.py\u001b[0m in \u001b[0;36mrunAndWait\u001b[0;34m(self)\u001b[0m\n\u001b[1;32m    178\u001b[0m         \u001b[0mself\u001b[0m\u001b[0;34m.\u001b[0m\u001b[0m_inLoop\u001b[0m \u001b[0;34m=\u001b[0m \u001b[0;32mTrue\u001b[0m\u001b[0;34m\u001b[0m\u001b[0;34m\u001b[0m\u001b[0m\n\u001b[1;32m    179\u001b[0m         \u001b[0mself\u001b[0m\u001b[0;34m.\u001b[0m\u001b[0m_driverLoop\u001b[0m \u001b[0;34m=\u001b[0m \u001b[0;32mTrue\u001b[0m\u001b[0;34m\u001b[0m\u001b[0;34m\u001b[0m\u001b[0m\n\u001b[0;32m--> 180\u001b[0;31m         \u001b[0mself\u001b[0m\u001b[0;34m.\u001b[0m\u001b[0mproxy\u001b[0m\u001b[0;34m.\u001b[0m\u001b[0mrunAndWait\u001b[0m\u001b[0;34m(\u001b[0m\u001b[0;34m)\u001b[0m\u001b[0;34m\u001b[0m\u001b[0;34m\u001b[0m\u001b[0m\n\u001b[0m\u001b[1;32m    181\u001b[0m \u001b[0;34m\u001b[0m\u001b[0m\n\u001b[1;32m    182\u001b[0m     \u001b[0;32mdef\u001b[0m \u001b[0mstartLoop\u001b[0m\u001b[0;34m(\u001b[0m\u001b[0mself\u001b[0m\u001b[0;34m,\u001b[0m \u001b[0museDriverLoop\u001b[0m\u001b[0;34m=\u001b[0m\u001b[0;32mTrue\u001b[0m\u001b[0;34m)\u001b[0m\u001b[0;34m:\u001b[0m\u001b[0;34m\u001b[0m\u001b[0;34m\u001b[0m\u001b[0m\n",
      "\u001b[0;32m~/anaconda3/envs/chatbot/lib/python3.7/site-packages/pyttsx3/driver.py\u001b[0m in \u001b[0;36mrunAndWait\u001b[0;34m(self)\u001b[0m\n\u001b[1;32m    190\u001b[0m         '''\n\u001b[1;32m    191\u001b[0m         \u001b[0mself\u001b[0m\u001b[0;34m.\u001b[0m\u001b[0m_push\u001b[0m\u001b[0;34m(\u001b[0m\u001b[0mself\u001b[0m\u001b[0;34m.\u001b[0m\u001b[0m_engine\u001b[0m\u001b[0;34m.\u001b[0m\u001b[0mendLoop\u001b[0m\u001b[0;34m,\u001b[0m \u001b[0mtuple\u001b[0m\u001b[0;34m(\u001b[0m\u001b[0;34m)\u001b[0m\u001b[0;34m)\u001b[0m\u001b[0;34m\u001b[0m\u001b[0;34m\u001b[0m\u001b[0m\n\u001b[0;32m--> 192\u001b[0;31m         \u001b[0mself\u001b[0m\u001b[0;34m.\u001b[0m\u001b[0m_driver\u001b[0m\u001b[0;34m.\u001b[0m\u001b[0mstartLoop\u001b[0m\u001b[0;34m(\u001b[0m\u001b[0;34m)\u001b[0m\u001b[0;34m\u001b[0m\u001b[0;34m\u001b[0m\u001b[0m\n\u001b[0m\u001b[1;32m    193\u001b[0m \u001b[0;34m\u001b[0m\u001b[0m\n\u001b[1;32m    194\u001b[0m     \u001b[0;32mdef\u001b[0m \u001b[0mstartLoop\u001b[0m\u001b[0;34m(\u001b[0m\u001b[0mself\u001b[0m\u001b[0;34m,\u001b[0m \u001b[0museDriverLoop\u001b[0m\u001b[0;34m)\u001b[0m\u001b[0;34m:\u001b[0m\u001b[0;34m\u001b[0m\u001b[0;34m\u001b[0m\u001b[0m\n",
      "\u001b[0;32m~/anaconda3/envs/chatbot/lib/python3.7/site-packages/pyttsx3/drivers/espeak.py\u001b[0m in \u001b[0;36mstartLoop\u001b[0;34m(self)\u001b[0m\n\u001b[1;32m    122\u001b[0m                 \u001b[0mself\u001b[0m\u001b[0;34m.\u001b[0m\u001b[0m_proxy\u001b[0m\u001b[0;34m.\u001b[0m\u001b[0mnotify\u001b[0m\u001b[0;34m(\u001b[0m\u001b[0;34m'finished-utterance'\u001b[0m\u001b[0;34m,\u001b[0m \u001b[0mcompleted\u001b[0m\u001b[0;34m=\u001b[0m\u001b[0;32mFalse\u001b[0m\u001b[0;34m)\u001b[0m\u001b[0;34m\u001b[0m\u001b[0;34m\u001b[0m\u001b[0m\n\u001b[1;32m    123\u001b[0m                 \u001b[0mself\u001b[0m\u001b[0;34m.\u001b[0m\u001b[0m_proxy\u001b[0m\u001b[0;34m.\u001b[0m\u001b[0msetBusy\u001b[0m\u001b[0;34m(\u001b[0m\u001b[0;32mFalse\u001b[0m\u001b[0;34m)\u001b[0m\u001b[0;34m\u001b[0m\u001b[0;34m\u001b[0m\u001b[0m\n\u001b[0;32m--> 124\u001b[0;31m             \u001b[0mtime\u001b[0m\u001b[0;34m.\u001b[0m\u001b[0msleep\u001b[0m\u001b[0;34m(\u001b[0m\u001b[0;36m0.01\u001b[0m\u001b[0;34m)\u001b[0m\u001b[0;34m\u001b[0m\u001b[0;34m\u001b[0m\u001b[0m\n\u001b[0m\u001b[1;32m    125\u001b[0m \u001b[0;34m\u001b[0m\u001b[0m\n\u001b[1;32m    126\u001b[0m     \u001b[0;32mdef\u001b[0m \u001b[0msave_to_file\u001b[0m\u001b[0;34m(\u001b[0m\u001b[0mself\u001b[0m\u001b[0;34m,\u001b[0m \u001b[0mtext\u001b[0m\u001b[0;34m,\u001b[0m \u001b[0mfilename\u001b[0m\u001b[0;34m)\u001b[0m\u001b[0;34m:\u001b[0m\u001b[0;34m\u001b[0m\u001b[0;34m\u001b[0m\u001b[0m\n",
      "\u001b[0;31mKeyboardInterrupt\u001b[0m: "
     ]
    }
   ],
   "source": [
    "engine.say(\"Hola\")\n",
    "engine.runAndWait()"
   ]
  },
  {
   "cell_type": "code",
   "execution_count": 56,
   "id": "f14d1b3c",
   "metadata": {},
   "outputs": [],
   "source": [
    "engine.save_to_file(\"Hola, que tal\", 'speech.mp3')\n",
    "#engine.runAndWait()"
   ]
  },
  {
   "cell_type": "markdown",
   "id": "682e9583",
   "metadata": {},
   "source": [
    "* Opción 2 gTTs"
   ]
  },
  {
   "cell_type": "code",
   "execution_count": 59,
   "id": "e90cc0d0",
   "metadata": {},
   "outputs": [
    {
     "name": "stdout",
     "output_type": "stream",
     "text": [
      "Collecting gtts\n",
      "  Downloading gTTS-2.2.3-py3-none-any.whl (25 kB)\n",
      "Requirement already satisfied: six in /home/tonyzetag/anaconda3/envs/chatbot/lib/python3.7/site-packages (from gtts) (1.16.0)\n",
      "Requirement already satisfied: click in /home/tonyzetag/anaconda3/envs/chatbot/lib/python3.7/site-packages (from gtts) (8.0.3)\n",
      "Requirement already satisfied: requests in /home/tonyzetag/anaconda3/envs/chatbot/lib/python3.7/site-packages (from gtts) (2.26.0)\n",
      "Requirement already satisfied: importlib-metadata in /home/tonyzetag/anaconda3/envs/chatbot/lib/python3.7/site-packages (from click->gtts) (4.8.2)\n",
      "Requirement already satisfied: zipp>=0.5 in /home/tonyzetag/anaconda3/envs/chatbot/lib/python3.7/site-packages (from importlib-metadata->click->gtts) (3.6.0)\n",
      "Requirement already satisfied: typing-extensions>=3.6.4 in /home/tonyzetag/anaconda3/envs/chatbot/lib/python3.7/site-packages (from importlib-metadata->click->gtts) (3.10.0.2)\n",
      "Requirement already satisfied: idna<4,>=2.5 in /home/tonyzetag/anaconda3/envs/chatbot/lib/python3.7/site-packages (from requests->gtts) (3.3)\n",
      "Requirement already satisfied: certifi>=2017.4.17 in /home/tonyzetag/anaconda3/envs/chatbot/lib/python3.7/site-packages (from requests->gtts) (2021.10.8)\n",
      "Requirement already satisfied: urllib3<1.27,>=1.21.1 in /home/tonyzetag/anaconda3/envs/chatbot/lib/python3.7/site-packages (from requests->gtts) (1.26.7)\n",
      "Requirement already satisfied: charset-normalizer~=2.0.0 in /home/tonyzetag/anaconda3/envs/chatbot/lib/python3.7/site-packages (from requests->gtts) (2.0.4)\n",
      "Installing collected packages: gtts\n",
      "Successfully installed gtts-2.2.3\n"
     ]
    }
   ],
   "source": [
    "#!pip install gtts"
   ]
  },
  {
   "cell_type": "code",
   "execution_count": 100,
   "id": "11149b7d",
   "metadata": {},
   "outputs": [],
   "source": [
    "import os\n",
    "from gtts import gTTS\n",
    "from gtts.tokenizer import pre_processors, tokenizer_cases\n",
    "import gtts.tokenizer.symbols"
   ]
  },
  {
   "cell_type": "code",
   "execution_count": 101,
   "id": "0ad4df15",
   "metadata": {},
   "outputs": [],
   "source": [
    "# Preprocesador de texto\n",
    "cod_text = [(\",\", \"coma,\"), (\".\", \"punto,\"), (\";\", \"punto y coma,\"), (\":\", \"dos puntos,\"), (\"(\", \"abrimos paréntesis,\"),(\")\", \"cerramos paréntesis,\")]\n",
    "for item in cod_text:\n",
    "    gtts.tokenizer.symbols.SUB_PAIRS.append(item)"
   ]
  },
  {
   "cell_type": "code",
   "execution_count": 82,
   "id": "17daf437",
   "metadata": {},
   "outputs": [],
   "source": [
    "tok = gtts.tokenizer.core.Tokenizer([\n",
    "    tokenizer_cases.tone_marks,\n",
    "    tokenizer_cases.period_comma,\n",
    "    tokenizer_cases.other_punctuation\n",
    "])"
   ]
  },
  {
   "cell_type": "code",
   "execution_count": 102,
   "id": "80c080fe",
   "metadata": {},
   "outputs": [
    {
     "name": "stdout",
     "output_type": "stream",
     "text": [
      "Esto es solo un testcoma abrimos paréntesisvamos a ganar chicoscerramos paréntesis\n"
     ]
    }
   ],
   "source": [
    "# Options\n",
    "text_to_read = \"Esto es solo un test, (vamos a ganar chicos)\"\n",
    "text_to_read = pre_processors.word_sub(text_to_read)\n",
    "print(text_to_read)\n",
    "language = 'es'\n",
    "slow_audio_speed = False\n",
    "filename = 'my_file.mp3'"
   ]
  },
  {
   "cell_type": "code",
   "execution_count": 103,
   "id": "dbee6204",
   "metadata": {},
   "outputs": [],
   "source": [
    "audio_created = gTTS(text=text_to_read, lang=language,slow=slow_audio_speed, tokenizer_func=tok)\n",
    "audio_created.save(filename)\n",
    "#os.system(f'start {filename}')"
   ]
  },
  {
   "cell_type": "code",
   "execution_count": 64,
   "id": "c53e45c1",
   "metadata": {},
   "outputs": [],
   "source": [
    "def tts_to_file(text_to_read, filename):\n",
    "    language = 'es'\n",
    "    audio_created = gTTS(text=text_to_read, lang=language,slow=slow_audio_speed)\n",
    "    audio_created.save(filename)    "
   ]
  },
  {
   "cell_type": "markdown",
   "id": "5890e4f1",
   "metadata": {},
   "source": [
    "* SpeechRecognition"
   ]
  },
  {
   "cell_type": "code",
   "execution_count": 151,
   "id": "2c774d8c",
   "metadata": {},
   "outputs": [
    {
     "name": "stdout",
     "output_type": "stream",
     "text": [
      "Collecting SpeechRecognition\n",
      "  Downloading SpeechRecognition-3.8.1-py2.py3-none-any.whl (32.8 MB)\n",
      "\u001b[K     |████████████████████████████████| 32.8 MB 153 kB/s eta 0:00:01    |███████▊                        | 7.9 MB 4.3 MB/s eta 0:00:06     |█████████████████████▊          | 22.3 MB 4.3 MB/s eta 0:00:03\n",
      "\u001b[?25hInstalling collected packages: SpeechRecognition\n",
      "Successfully installed SpeechRecognition-3.8.1\n"
     ]
    }
   ],
   "source": [
    "#!pip install SpeechRecognition"
   ]
  },
  {
   "cell_type": "code",
   "execution_count": 2,
   "id": "b9ceb1f2",
   "metadata": {},
   "outputs": [
    {
     "name": "stdout",
     "output_type": "stream",
     "text": [
      "Collecting pyaudio\n",
      "  Using cached PyAudio-0.2.11.tar.gz (37 kB)\n",
      "Building wheels for collected packages: pyaudio\n",
      "  Building wheel for pyaudio (setup.py) ... \u001b[?25ldone\n",
      "\u001b[?25h  Created wheel for pyaudio: filename=PyAudio-0.2.11-cp37-cp37m-linux_x86_64.whl size=52793 sha256=e218b6f6fda046ffdf5db11e3503c33961d3b261e178373d42c04a9623e4b97c\n",
      "  Stored in directory: /home/tonyzetag/.cache/pip/wheels/40/2e/4c/b71e7e96c861a46e6213bc6bb482b94dcf293a92c5e736c1ec\n",
      "Successfully built pyaudio\n",
      "Installing collected packages: pyaudio\n",
      "Successfully installed pyaudio-0.2.11\n"
     ]
    }
   ],
   "source": [
    "!pip3 install pyaudio"
   ]
  },
  {
   "cell_type": "code",
   "execution_count": 3,
   "id": "522088ad",
   "metadata": {},
   "outputs": [],
   "source": [
    "import speech_recognition as sr\n",
    "import pyaudio"
   ]
  },
  {
   "cell_type": "code",
   "execution_count": 5,
   "id": "8b612155",
   "metadata": {},
   "outputs": [
    {
     "name": "stdout",
     "output_type": "stream",
     "text": [
      "Collecting sounddevice\n",
      "  Downloading sounddevice-0.4.3-py3-none-any.whl (31 kB)\n",
      "Requirement already satisfied: CFFI>=1.0 in /home/tonyzetag/anaconda3/envs/chatbot/lib/python3.7/site-packages (from sounddevice) (1.14.6)\n",
      "Requirement already satisfied: pycparser in /home/tonyzetag/anaconda3/envs/chatbot/lib/python3.7/site-packages (from CFFI>=1.0->sounddevice) (2.21)\n",
      "Installing collected packages: sounddevice\n",
      "Successfully installed sounddevice-0.4.3\n",
      "\n"
     ]
    }
   ],
   "source": [
    "!python3 -m pip install sounddevice && python3 -m sounddevice"
   ]
  },
  {
   "cell_type": "code",
   "execution_count": 6,
   "id": "064cee05",
   "metadata": {},
   "outputs": [
    {
     "name": "stderr",
     "output_type": "stream",
     "text": [
      "ALSA lib confmisc.c:767:(parse_card) cannot find card '0'\n",
      "ALSA lib conf.c:4745:(_snd_config_evaluate) function snd_func_card_driver returned error: No such file or directory\n",
      "ALSA lib confmisc.c:392:(snd_func_concat) error evaluating strings\n",
      "ALSA lib conf.c:4745:(_snd_config_evaluate) function snd_func_concat returned error: No such file or directory\n",
      "ALSA lib confmisc.c:1246:(snd_func_refer) error evaluating name\n",
      "ALSA lib conf.c:4745:(_snd_config_evaluate) function snd_func_refer returned error: No such file or directory\n",
      "ALSA lib conf.c:5233:(snd_config_expand) Evaluate error: No such file or directory\n",
      "ALSA lib pcm.c:2660:(snd_pcm_open_noupdate) Unknown PCM sysdefault\n",
      "ALSA lib confmisc.c:767:(parse_card) cannot find card '0'\n",
      "ALSA lib conf.c:4745:(_snd_config_evaluate) function snd_func_card_driver returned error: No such file or directory\n",
      "ALSA lib confmisc.c:392:(snd_func_concat) error evaluating strings\n",
      "ALSA lib conf.c:4745:(_snd_config_evaluate) function snd_func_concat returned error: No such file or directory\n",
      "ALSA lib confmisc.c:1246:(snd_func_refer) error evaluating name\n",
      "ALSA lib conf.c:4745:(_snd_config_evaluate) function snd_func_refer returned error: No such file or directory\n",
      "ALSA lib conf.c:5233:(snd_config_expand) Evaluate error: No such file or directory\n",
      "ALSA lib pcm.c:2660:(snd_pcm_open_noupdate) Unknown PCM sysdefault\n",
      "ALSA lib pcm.c:2660:(snd_pcm_open_noupdate) Unknown PCM cards.pcm.front\n",
      "ALSA lib pcm.c:2660:(snd_pcm_open_noupdate) Unknown PCM cards.pcm.rear\n",
      "ALSA lib pcm.c:2660:(snd_pcm_open_noupdate) Unknown PCM cards.pcm.center_lfe\n",
      "ALSA lib pcm.c:2660:(snd_pcm_open_noupdate) Unknown PCM cards.pcm.side\n",
      "ALSA lib pcm.c:2660:(snd_pcm_open_noupdate) Unknown PCM cards.pcm.surround21\n",
      "ALSA lib pcm.c:2660:(snd_pcm_open_noupdate) Unknown PCM cards.pcm.surround21\n",
      "ALSA lib pcm.c:2660:(snd_pcm_open_noupdate) Unknown PCM cards.pcm.surround40\n",
      "ALSA lib pcm.c:2660:(snd_pcm_open_noupdate) Unknown PCM cards.pcm.surround41\n",
      "ALSA lib pcm.c:2660:(snd_pcm_open_noupdate) Unknown PCM cards.pcm.surround50\n",
      "ALSA lib pcm.c:2660:(snd_pcm_open_noupdate) Unknown PCM cards.pcm.surround51\n",
      "ALSA lib pcm.c:2660:(snd_pcm_open_noupdate) Unknown PCM cards.pcm.surround71\n",
      "ALSA lib pcm.c:2660:(snd_pcm_open_noupdate) Unknown PCM cards.pcm.iec958\n",
      "ALSA lib pcm.c:2660:(snd_pcm_open_noupdate) Unknown PCM cards.pcm.iec958\n",
      "ALSA lib pcm.c:2660:(snd_pcm_open_noupdate) Unknown PCM cards.pcm.iec958\n",
      "ALSA lib pcm.c:2660:(snd_pcm_open_noupdate) Unknown PCM cards.pcm.hdmi\n",
      "ALSA lib pcm.c:2660:(snd_pcm_open_noupdate) Unknown PCM cards.pcm.hdmi\n",
      "ALSA lib pcm.c:2660:(snd_pcm_open_noupdate) Unknown PCM cards.pcm.modem\n",
      "ALSA lib pcm.c:2660:(snd_pcm_open_noupdate) Unknown PCM cards.pcm.modem\n",
      "ALSA lib pcm.c:2660:(snd_pcm_open_noupdate) Unknown PCM cards.pcm.phoneline\n",
      "ALSA lib pcm.c:2660:(snd_pcm_open_noupdate) Unknown PCM cards.pcm.phoneline\n",
      "ALSA lib confmisc.c:767:(parse_card) cannot find card '0'\n",
      "ALSA lib conf.c:4745:(_snd_config_evaluate) function snd_func_card_driver returned error: No such file or directory\n",
      "ALSA lib confmisc.c:392:(snd_func_concat) error evaluating strings\n",
      "ALSA lib conf.c:4745:(_snd_config_evaluate) function snd_func_concat returned error: No such file or directory\n",
      "ALSA lib confmisc.c:1246:(snd_func_refer) error evaluating name\n",
      "ALSA lib conf.c:4745:(_snd_config_evaluate) function snd_func_refer returned error: No such file or directory\n",
      "ALSA lib conf.c:5233:(snd_config_expand) Evaluate error: No such file or directory\n",
      "ALSA lib pcm.c:2660:(snd_pcm_open_noupdate) Unknown PCM default\n",
      "ALSA lib confmisc.c:767:(parse_card) cannot find card '0'\n",
      "ALSA lib conf.c:4745:(_snd_config_evaluate) function snd_func_card_driver returned error: No such file or directory\n",
      "ALSA lib confmisc.c:392:(snd_func_concat) error evaluating strings\n",
      "ALSA lib conf.c:4745:(_snd_config_evaluate) function snd_func_concat returned error: No such file or directory\n",
      "ALSA lib confmisc.c:1246:(snd_func_refer) error evaluating name\n",
      "ALSA lib conf.c:4745:(_snd_config_evaluate) function snd_func_refer returned error: No such file or directory\n",
      "ALSA lib conf.c:5233:(snd_config_expand) Evaluate error: No such file or directory\n",
      "ALSA lib pcm.c:2660:(snd_pcm_open_noupdate) Unknown PCM default\n",
      "ALSA lib confmisc.c:767:(parse_card) cannot find card '0'\n",
      "ALSA lib conf.c:4745:(_snd_config_evaluate) function snd_func_card_driver returned error: No such file or directory\n",
      "ALSA lib confmisc.c:392:(snd_func_concat) error evaluating strings\n",
      "ALSA lib conf.c:4745:(_snd_config_evaluate) function snd_func_concat returned error: No such file or directory\n",
      "ALSA lib confmisc.c:1246:(snd_func_refer) error evaluating name\n",
      "ALSA lib conf.c:4745:(_snd_config_evaluate) function snd_func_refer returned error: No such file or directory\n",
      "ALSA lib conf.c:5233:(snd_config_expand) Evaluate error: No such file or directory\n",
      "ALSA lib pcm.c:2660:(snd_pcm_open_noupdate) Unknown PCM dmix\n"
     ]
    },
    {
     "ename": "OSError",
     "evalue": "No Default Input Device Available",
     "output_type": "error",
     "traceback": [
      "\u001b[0;31m---------------------------------------------------------------------------\u001b[0m",
      "\u001b[0;31mOSError\u001b[0m                                   Traceback (most recent call last)",
      "\u001b[0;32m/tmp/ipykernel_6163/2874048916.py\u001b[0m in \u001b[0;36m<module>\u001b[0;34m\u001b[0m\n\u001b[0;32m----> 1\u001b[0;31m \u001b[0mmicph\u001b[0m \u001b[0;34m=\u001b[0m \u001b[0msr\u001b[0m\u001b[0;34m.\u001b[0m\u001b[0mMicrophone\u001b[0m\u001b[0;34m(\u001b[0m\u001b[0;34m)\u001b[0m\u001b[0;34m\u001b[0m\u001b[0;34m\u001b[0m\u001b[0m\n\u001b[0m\u001b[1;32m      2\u001b[0m \u001b[0;32mwith\u001b[0m \u001b[0mmicph\u001b[0m \u001b[0;32mas\u001b[0m \u001b[0msource\u001b[0m\u001b[0;34m:\u001b[0m\u001b[0;34m\u001b[0m\u001b[0;34m\u001b[0m\u001b[0m\n\u001b[1;32m      3\u001b[0m \u001b[0;34m\u001b[0m\u001b[0m\n\u001b[1;32m      4\u001b[0m  \u001b[0mprint\u001b[0m\u001b[0;34m(\u001b[0m\u001b[0;34m\"You can now speak\"\u001b[0m\u001b[0;34m)\u001b[0m\u001b[0;34m\u001b[0m\u001b[0;34m\u001b[0m\u001b[0m\n\u001b[1;32m      5\u001b[0m \u001b[0;34m\u001b[0m\u001b[0m\n",
      "\u001b[0;32m~/anaconda3/envs/chatbot/lib/python3.7/site-packages/speech_recognition/__init__.py\u001b[0m in \u001b[0;36m__init__\u001b[0;34m(self, device_index, sample_rate, chunk_size)\u001b[0m\n\u001b[1;32m     84\u001b[0m                 \u001b[0;32massert\u001b[0m \u001b[0;36m0\u001b[0m \u001b[0;34m<=\u001b[0m \u001b[0mdevice_index\u001b[0m \u001b[0;34m<\u001b[0m \u001b[0mcount\u001b[0m\u001b[0;34m,\u001b[0m \u001b[0;34m\"Device index out of range ({} devices available; device index should be between 0 and {} inclusive)\"\u001b[0m\u001b[0;34m.\u001b[0m\u001b[0mformat\u001b[0m\u001b[0;34m(\u001b[0m\u001b[0mcount\u001b[0m\u001b[0;34m,\u001b[0m \u001b[0mcount\u001b[0m \u001b[0;34m-\u001b[0m \u001b[0;36m1\u001b[0m\u001b[0;34m)\u001b[0m\u001b[0;34m\u001b[0m\u001b[0;34m\u001b[0m\u001b[0m\n\u001b[1;32m     85\u001b[0m             \u001b[0;32mif\u001b[0m \u001b[0msample_rate\u001b[0m \u001b[0;32mis\u001b[0m \u001b[0;32mNone\u001b[0m\u001b[0;34m:\u001b[0m  \u001b[0;31m# automatically set the sample rate to the hardware's default sample rate if not specified\u001b[0m\u001b[0;34m\u001b[0m\u001b[0;34m\u001b[0m\u001b[0m\n\u001b[0;32m---> 86\u001b[0;31m                 \u001b[0mdevice_info\u001b[0m \u001b[0;34m=\u001b[0m \u001b[0maudio\u001b[0m\u001b[0;34m.\u001b[0m\u001b[0mget_device_info_by_index\u001b[0m\u001b[0;34m(\u001b[0m\u001b[0mdevice_index\u001b[0m\u001b[0;34m)\u001b[0m \u001b[0;32mif\u001b[0m \u001b[0mdevice_index\u001b[0m \u001b[0;32mis\u001b[0m \u001b[0;32mnot\u001b[0m \u001b[0;32mNone\u001b[0m \u001b[0;32melse\u001b[0m \u001b[0maudio\u001b[0m\u001b[0;34m.\u001b[0m\u001b[0mget_default_input_device_info\u001b[0m\u001b[0;34m(\u001b[0m\u001b[0;34m)\u001b[0m\u001b[0;34m\u001b[0m\u001b[0;34m\u001b[0m\u001b[0m\n\u001b[0m\u001b[1;32m     87\u001b[0m                 \u001b[0;32massert\u001b[0m \u001b[0misinstance\u001b[0m\u001b[0;34m(\u001b[0m\u001b[0mdevice_info\u001b[0m\u001b[0;34m.\u001b[0m\u001b[0mget\u001b[0m\u001b[0;34m(\u001b[0m\u001b[0;34m\"defaultSampleRate\"\u001b[0m\u001b[0;34m)\u001b[0m\u001b[0;34m,\u001b[0m \u001b[0;34m(\u001b[0m\u001b[0mfloat\u001b[0m\u001b[0;34m,\u001b[0m \u001b[0mint\u001b[0m\u001b[0;34m)\u001b[0m\u001b[0;34m)\u001b[0m \u001b[0;32mand\u001b[0m \u001b[0mdevice_info\u001b[0m\u001b[0;34m[\u001b[0m\u001b[0;34m\"defaultSampleRate\"\u001b[0m\u001b[0;34m]\u001b[0m \u001b[0;34m>\u001b[0m \u001b[0;36m0\u001b[0m\u001b[0;34m,\u001b[0m \u001b[0;34m\"Invalid device info returned from PyAudio: {}\"\u001b[0m\u001b[0;34m.\u001b[0m\u001b[0mformat\u001b[0m\u001b[0;34m(\u001b[0m\u001b[0mdevice_info\u001b[0m\u001b[0;34m)\u001b[0m\u001b[0;34m\u001b[0m\u001b[0;34m\u001b[0m\u001b[0m\n\u001b[1;32m     88\u001b[0m                 \u001b[0msample_rate\u001b[0m \u001b[0;34m=\u001b[0m \u001b[0mint\u001b[0m\u001b[0;34m(\u001b[0m\u001b[0mdevice_info\u001b[0m\u001b[0;34m[\u001b[0m\u001b[0;34m\"defaultSampleRate\"\u001b[0m\u001b[0;34m]\u001b[0m\u001b[0;34m)\u001b[0m\u001b[0;34m\u001b[0m\u001b[0;34m\u001b[0m\u001b[0m\n",
      "\u001b[0;32m~/anaconda3/envs/chatbot/lib/python3.7/site-packages/pyaudio.py\u001b[0m in \u001b[0;36mget_default_input_device_info\u001b[0;34m(self)\u001b[0m\n\u001b[1;32m    947\u001b[0m         \"\"\"\n\u001b[1;32m    948\u001b[0m \u001b[0;34m\u001b[0m\u001b[0m\n\u001b[0;32m--> 949\u001b[0;31m         \u001b[0mdevice_index\u001b[0m \u001b[0;34m=\u001b[0m \u001b[0mpa\u001b[0m\u001b[0;34m.\u001b[0m\u001b[0mget_default_input_device\u001b[0m\u001b[0;34m(\u001b[0m\u001b[0;34m)\u001b[0m\u001b[0;34m\u001b[0m\u001b[0;34m\u001b[0m\u001b[0m\n\u001b[0m\u001b[1;32m    950\u001b[0m         \u001b[0;32mreturn\u001b[0m \u001b[0mself\u001b[0m\u001b[0;34m.\u001b[0m\u001b[0mget_device_info_by_index\u001b[0m\u001b[0;34m(\u001b[0m\u001b[0mdevice_index\u001b[0m\u001b[0;34m)\u001b[0m\u001b[0;34m\u001b[0m\u001b[0;34m\u001b[0m\u001b[0m\n\u001b[1;32m    951\u001b[0m \u001b[0;34m\u001b[0m\u001b[0m\n",
      "\u001b[0;31mOSError\u001b[0m: No Default Input Device Available"
     ]
    }
   ],
   "source": [
    "micph = sr.Microphone()\n",
    "with micph as source:\n",
    "\n",
    " print(\"You can now speak\")\n",
    "\n",
    " r.adjust_for_ambient_noise(source)\n",
    "\n",
    " audio = r.listen(source)\n",
    "\n",
    "print(\"Translating your speech...\")\n",
    "\n",
    "print(\"You said: \" + r.recognize_google(audio))"
   ]
  },
  {
   "cell_type": "code",
   "execution_count": 158,
   "id": "06c7244a",
   "metadata": {},
   "outputs": [],
   "source": [
    "listener = sr.Recognizer()\n",
    "try:\n",
    "    with sr.Microphone() as source:\n",
    "        voice = listener.listen(source)\n",
    "        rec = listener.recognize_google(voice)\n",
    "        pint(rec)\n",
    "except:\n",
    "    pass\n"
   ]
  },
  {
   "cell_type": "markdown",
   "id": "b7e1f8d0",
   "metadata": {},
   "source": [
    "# Todo"
   ]
  },
  {
   "cell_type": "code",
   "execution_count": 149,
   "id": "1b2aea2b",
   "metadata": {},
   "outputs": [],
   "source": [
    "class my_bot:\n",
    "    def __init__(self, name='IA'):\n",
    "        # Nuestro chatBot\n",
    "        self.chatbot = ChatBot(name, logic_adapters=['chatterbot.logic.MathematicalEvaluation', 'chatterbot.logic.BestMatch'])\n",
    "        # Text_to_speech\n",
    "        self.tts_train_symbols()\n",
    "        self.tok = self.tts_token()\n",
    "        \n",
    "    def chatbot_basic_train(self):\n",
    "        # Entrenamiento básico (compus)\n",
    "        trainer = ChatterBotCorpusTrainer(self.chatbot)\n",
    "        trainer.train(\n",
    "            \"chatterbot.corpus.spanish.greetings\",\n",
    "            \"chatterbot.corpus.spanish.conversations\")\n",
    "        \n",
    "    def chatbot_spec_train(self, filename):\n",
    "        # Entrenamiento específico\n",
    "        train_list = open(filename, 'r').readlines()\n",
    "        trainer = ListTrainer(self.chatbot)\n",
    "        trainer.train(['Hola', '¿Que tal?', \n",
    "               'tengo una pregunta', 'si, dime', \n",
    "               '¿Como es la estructura del bucle for?', 'Sería con for(i in range(): y lo que quieras dentro del bucle)',\n",
    "               'Gracias', 'De nada'])\n",
    "        \n",
    "    def chatbot_forget(self):\n",
    "        self.chatbot.storage.drop()\n",
    "        \n",
    "    def chatbot_response(self, query):\n",
    "        response = self.chatbot.get_response(query)\n",
    "        return response\n",
    "    \n",
    "    def tts_train_symbols(self):\n",
    "        cod_text = [(\",\", \"coma,\"), \n",
    "                    (\".\", \"punto,\"), \n",
    "                    (\";\", \"punto y coma,\"), \n",
    "                    (\":\", \"dos puntos,\"), \n",
    "                    (\"(\", \"abrimos paréntesis,\"),\n",
    "                    (\")\", \"cerramos paréntesis,\")]\n",
    "        for item in cod_text:\n",
    "            gtts.tokenizer.symbols.SUB_PAIRS.append(item)\n",
    "            \n",
    "    def tts_token(self):\n",
    "        return gtts.tokenizer.core.Tokenizer([\n",
    "            tokenizer_cases.tone_marks,\n",
    "            tokenizer_cases.period_comma,\n",
    "            tokenizer_cases.other_punctuation])\n",
    "    \n",
    "    def chatbot_response_to_mp3(self, query, filename):\n",
    "        response = self.chatbot_response(query)\n",
    "        query = pre_processors.word_sub(response.text)\n",
    "        gtts = gTTS(text=query, lang='es', tokenizer_func=self.tok)\n",
    "        gtts.save(filename) \n",
    "        \n",
    "    def listen()"
   ]
  },
  {
   "cell_type": "code",
   "execution_count": null,
   "id": "089ec7ed",
   "metadata": {},
   "outputs": [],
   "source": []
  },
  {
   "cell_type": "code",
   "execution_count": null,
   "id": "4328f2af",
   "metadata": {},
   "outputs": [],
   "source": []
  },
  {
   "cell_type": "code",
   "execution_count": 154,
   "id": "409eed80",
   "metadata": {},
   "outputs": [
    {
     "name": "stdout",
     "output_type": "stream",
     "text": [
      "Training greetings.yml: [####################] 100%\n",
      "Training conversations.yml: [####################] 100%\n"
     ]
    }
   ],
   "source": [
    "bot = my_bot()\n",
    "bot.chatbot_basic_train()\n",
    "bot.chatbot_response_to_mp3('Hola, ¿qué tal?', 'test.mp3')"
   ]
  },
  {
   "cell_type": "code",
   "execution_count": null,
   "id": "f5524b07",
   "metadata": {},
   "outputs": [],
   "source": [
    "b"
   ]
  }
 ],
 "metadata": {
  "kernelspec": {
   "display_name": "Python 3 (ipykernel)",
   "language": "python",
   "name": "python3"
  },
  "language_info": {
   "codemirror_mode": {
    "name": "ipython",
    "version": 3
   },
   "file_extension": ".py",
   "mimetype": "text/x-python",
   "name": "python",
   "nbconvert_exporter": "python",
   "pygments_lexer": "ipython3",
   "version": "3.7.11"
  }
 },
 "nbformat": 4,
 "nbformat_minor": 5
}
