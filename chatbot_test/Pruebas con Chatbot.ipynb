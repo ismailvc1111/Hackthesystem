{
 "cells": [
  {
   "cell_type": "markdown",
   "id": "35da6ee5",
   "metadata": {},
   "source": [
    "### Chatbot"
   ]
  },
  {
   "cell_type": "code",
   "execution_count": 3,
   "id": "36aaca61",
   "metadata": {},
   "outputs": [],
   "source": [
    "# Python 3.7\n",
    "#!pip install chatterbot\n",
    "#!pip install chatterbot_corpus\n",
    "#!pip install gtts\n",
    "#!python3 -m spacy download es\n",
    "#!pip install spacy==2.3.5\n",
    "#!python -m spacy download es_core_news_lg"
   ]
  },
  {
   "cell_type": "code",
   "execution_count": null,
   "id": "8673a9e1",
   "metadata": {},
   "outputs": [],
   "source": [
    "import os\n",
    "# Chatterbot\n",
    "from chatterbot import ChatBot\n",
    "from chatterbot.trainers import ListTrainer, ChatterBotCorpusTrainer\n",
    "import es_core_news_lg\n",
    "nlp = es_core_news_lg.load()\n",
    "# TTS\n",
    "from gtts import gTTS\n",
    "from gtts.tokenizer import pre_processors, tokenizer_cases\n",
    "import gtts.tokenizer.symbols\n",
    "\n",
    "class my_bot:\n",
    "    def __init__(self, name='IA'):\n",
    "        # Nuestro chatBot\n",
    "        self.chatbot = ChatBot(name, logic_adapters=['chatterbot.logic.MathematicalEvaluation', 'chatterbot.logic.BestMatch'])\n",
    "        # Text_to_speech\n",
    "        self.tts_train_symbols()\n",
    "        self.tok = self.tts_token()\n",
    "        \n",
    "    def chatbot_basic_train(self):\n",
    "        # Entrenamiento básico (compus)\n",
    "        trainer = ChatterBotCorpusTrainer(self.chatbot)\n",
    "        trainer.train(\n",
    "            \"chatterbot.corpus.spanish.greetings\",\n",
    "            \"chatterbot.corpus.spanish.conversations\")\n",
    "        \n",
    "    def chatbot_spec_train(self, filename):\n",
    "        # Entrenamiento específico\n",
    "        train_list = open(filename, 'r').readlines()\n",
    "        trainer = ListTrainer(self.chatbot)\n",
    "        trainer.train(['Hola', '¿Que tal?', \n",
    "               'tengo una pregunta', 'si, dime', \n",
    "               '¿Como es la estructura del bucle for?', 'Sería con for(i in range(): y lo que quieras dentro del bucle)',\n",
    "               'Gracias', 'De nada'])\n",
    "        \n",
    "    def chatbot_forget(self):\n",
    "        self.chatbot.storage.drop()\n",
    "        \n",
    "    def chatbot_response(self, query):\n",
    "        response = self.chatbot.get_response(query)\n",
    "        return response\n",
    "    \n",
    "    def tts_train_symbols(self):\n",
    "        cod_text = [(\",\", \"coma,\"), \n",
    "                    (\".\", \"punto,\"), \n",
    "                    (\";\", \"punto y coma,\"), \n",
    "                    (\":\", \"dos puntos,\"), \n",
    "                    (\"(\", \"abrimos paréntesis,\"),\n",
    "                    (\")\", \"cerramos paréntesis,\")]\n",
    "        for item in cod_text:\n",
    "            gtts.tokenizer.symbols.SUB_PAIRS.append(item)\n",
    "            \n",
    "    def tts_token(self):\n",
    "        return gtts.tokenizer.core.Tokenizer([\n",
    "            tokenizer_cases.tone_marks,\n",
    "            tokenizer_cases.period_comma,\n",
    "            tokenizer_cases.other_punctuation])\n",
    "    \n",
    "    def chatbot_response_to_mp3(self, query, filename):\n",
    "        response = self.chatbot_response(query)\n",
    "        query = pre_processors.word_sub(response.text)\n",
    "        gtts = gTTS(text=query, lang='es', tokenizer_func=self.tok)\n",
    "        gtts.save(filename) \n",
    "\n",
    "# Ejemplo de uso\n",
    "# bot = my_bot()\n",
    "# bot.chatbot_basic_train()\n",
    "# bot.chatbot_response_to_mp3('Hola, ¿qué tal?', 'test.mp3')"
   ]
  },
  {
   "cell_type": "code",
   "execution_count": null,
   "id": "148d02e8",
   "metadata": {},
   "outputs": [],
   "source": [
    "# Ejemplo de uso\n",
    "bot = my_bot()\n",
    "bot.chatbot_response_to_mp3('Hola, ¿qué tal?', 'test.mp3')"
   ]
  },
  {
   "cell_type": "markdown",
   "id": "5890e4f1",
   "metadata": {},
   "source": [
    "* SpeechRecognition"
   ]
  },
  {
   "cell_type": "code",
   "execution_count": 151,
   "id": "2c774d8c",
   "metadata": {},
   "outputs": [
    {
     "name": "stdout",
     "output_type": "stream",
     "text": [
      "Collecting SpeechRecognition\n",
      "  Downloading SpeechRecognition-3.8.1-py2.py3-none-any.whl (32.8 MB)\n",
      "\u001b[K     |████████████████████████████████| 32.8 MB 153 kB/s eta 0:00:01    |███████▊                        | 7.9 MB 4.3 MB/s eta 0:00:06     |█████████████████████▊          | 22.3 MB 4.3 MB/s eta 0:00:03\n",
      "\u001b[?25hInstalling collected packages: SpeechRecognition\n",
      "Successfully installed SpeechRecognition-3.8.1\n"
     ]
    }
   ],
   "source": [
    "#!pip install SpeechRecognition"
   ]
  },
  {
   "cell_type": "code",
   "execution_count": 2,
   "id": "b9ceb1f2",
   "metadata": {},
   "outputs": [
    {
     "name": "stdout",
     "output_type": "stream",
     "text": [
      "Collecting pyaudio\n",
      "  Using cached PyAudio-0.2.11.tar.gz (37 kB)\n",
      "Building wheels for collected packages: pyaudio\n",
      "  Building wheel for pyaudio (setup.py) ... \u001b[?25ldone\n",
      "\u001b[?25h  Created wheel for pyaudio: filename=PyAudio-0.2.11-cp37-cp37m-linux_x86_64.whl size=52793 sha256=e218b6f6fda046ffdf5db11e3503c33961d3b261e178373d42c04a9623e4b97c\n",
      "  Stored in directory: /home/tonyzetag/.cache/pip/wheels/40/2e/4c/b71e7e96c861a46e6213bc6bb482b94dcf293a92c5e736c1ec\n",
      "Successfully built pyaudio\n",
      "Installing collected packages: pyaudio\n",
      "Successfully installed pyaudio-0.2.11\n"
     ]
    }
   ],
   "source": [
    "!pip3 install pyaudio"
   ]
  },
  {
   "cell_type": "code",
   "execution_count": 3,
   "id": "522088ad",
   "metadata": {},
   "outputs": [],
   "source": [
    "import speech_recognition as sr\n",
    "import pyaudio"
   ]
  },
  {
   "cell_type": "code",
   "execution_count": 5,
   "id": "8b612155",
   "metadata": {},
   "outputs": [
    {
     "name": "stdout",
     "output_type": "stream",
     "text": [
      "Collecting sounddevice\n",
      "  Downloading sounddevice-0.4.3-py3-none-any.whl (31 kB)\n",
      "Requirement already satisfied: CFFI>=1.0 in /home/tonyzetag/anaconda3/envs/chatbot/lib/python3.7/site-packages (from sounddevice) (1.14.6)\n",
      "Requirement already satisfied: pycparser in /home/tonyzetag/anaconda3/envs/chatbot/lib/python3.7/site-packages (from CFFI>=1.0->sounddevice) (2.21)\n",
      "Installing collected packages: sounddevice\n",
      "Successfully installed sounddevice-0.4.3\n",
      "\n"
     ]
    }
   ],
   "source": [
    "!python3 -m pip install sounddevice && python3 -m sounddevice"
   ]
  },
  {
   "cell_type": "code",
   "execution_count": 6,
   "id": "064cee05",
   "metadata": {},
   "outputs": [
    {
     "name": "stderr",
     "output_type": "stream",
     "text": [
      "ALSA lib confmisc.c:767:(parse_card) cannot find card '0'\n",
      "ALSA lib conf.c:4745:(_snd_config_evaluate) function snd_func_card_driver returned error: No such file or directory\n",
      "ALSA lib confmisc.c:392:(snd_func_concat) error evaluating strings\n",
      "ALSA lib conf.c:4745:(_snd_config_evaluate) function snd_func_concat returned error: No such file or directory\n",
      "ALSA lib confmisc.c:1246:(snd_func_refer) error evaluating name\n",
      "ALSA lib conf.c:4745:(_snd_config_evaluate) function snd_func_refer returned error: No such file or directory\n",
      "ALSA lib conf.c:5233:(snd_config_expand) Evaluate error: No such file or directory\n",
      "ALSA lib pcm.c:2660:(snd_pcm_open_noupdate) Unknown PCM sysdefault\n",
      "ALSA lib confmisc.c:767:(parse_card) cannot find card '0'\n",
      "ALSA lib conf.c:4745:(_snd_config_evaluate) function snd_func_card_driver returned error: No such file or directory\n",
      "ALSA lib confmisc.c:392:(snd_func_concat) error evaluating strings\n",
      "ALSA lib conf.c:4745:(_snd_config_evaluate) function snd_func_concat returned error: No such file or directory\n",
      "ALSA lib confmisc.c:1246:(snd_func_refer) error evaluating name\n",
      "ALSA lib conf.c:4745:(_snd_config_evaluate) function snd_func_refer returned error: No such file or directory\n",
      "ALSA lib conf.c:5233:(snd_config_expand) Evaluate error: No such file or directory\n",
      "ALSA lib pcm.c:2660:(snd_pcm_open_noupdate) Unknown PCM sysdefault\n",
      "ALSA lib pcm.c:2660:(snd_pcm_open_noupdate) Unknown PCM cards.pcm.front\n",
      "ALSA lib pcm.c:2660:(snd_pcm_open_noupdate) Unknown PCM cards.pcm.rear\n",
      "ALSA lib pcm.c:2660:(snd_pcm_open_noupdate) Unknown PCM cards.pcm.center_lfe\n",
      "ALSA lib pcm.c:2660:(snd_pcm_open_noupdate) Unknown PCM cards.pcm.side\n",
      "ALSA lib pcm.c:2660:(snd_pcm_open_noupdate) Unknown PCM cards.pcm.surround21\n",
      "ALSA lib pcm.c:2660:(snd_pcm_open_noupdate) Unknown PCM cards.pcm.surround21\n",
      "ALSA lib pcm.c:2660:(snd_pcm_open_noupdate) Unknown PCM cards.pcm.surround40\n",
      "ALSA lib pcm.c:2660:(snd_pcm_open_noupdate) Unknown PCM cards.pcm.surround41\n",
      "ALSA lib pcm.c:2660:(snd_pcm_open_noupdate) Unknown PCM cards.pcm.surround50\n",
      "ALSA lib pcm.c:2660:(snd_pcm_open_noupdate) Unknown PCM cards.pcm.surround51\n",
      "ALSA lib pcm.c:2660:(snd_pcm_open_noupdate) Unknown PCM cards.pcm.surround71\n",
      "ALSA lib pcm.c:2660:(snd_pcm_open_noupdate) Unknown PCM cards.pcm.iec958\n",
      "ALSA lib pcm.c:2660:(snd_pcm_open_noupdate) Unknown PCM cards.pcm.iec958\n",
      "ALSA lib pcm.c:2660:(snd_pcm_open_noupdate) Unknown PCM cards.pcm.iec958\n",
      "ALSA lib pcm.c:2660:(snd_pcm_open_noupdate) Unknown PCM cards.pcm.hdmi\n",
      "ALSA lib pcm.c:2660:(snd_pcm_open_noupdate) Unknown PCM cards.pcm.hdmi\n",
      "ALSA lib pcm.c:2660:(snd_pcm_open_noupdate) Unknown PCM cards.pcm.modem\n",
      "ALSA lib pcm.c:2660:(snd_pcm_open_noupdate) Unknown PCM cards.pcm.modem\n",
      "ALSA lib pcm.c:2660:(snd_pcm_open_noupdate) Unknown PCM cards.pcm.phoneline\n",
      "ALSA lib pcm.c:2660:(snd_pcm_open_noupdate) Unknown PCM cards.pcm.phoneline\n",
      "ALSA lib confmisc.c:767:(parse_card) cannot find card '0'\n",
      "ALSA lib conf.c:4745:(_snd_config_evaluate) function snd_func_card_driver returned error: No such file or directory\n",
      "ALSA lib confmisc.c:392:(snd_func_concat) error evaluating strings\n",
      "ALSA lib conf.c:4745:(_snd_config_evaluate) function snd_func_concat returned error: No such file or directory\n",
      "ALSA lib confmisc.c:1246:(snd_func_refer) error evaluating name\n",
      "ALSA lib conf.c:4745:(_snd_config_evaluate) function snd_func_refer returned error: No such file or directory\n",
      "ALSA lib conf.c:5233:(snd_config_expand) Evaluate error: No such file or directory\n",
      "ALSA lib pcm.c:2660:(snd_pcm_open_noupdate) Unknown PCM default\n",
      "ALSA lib confmisc.c:767:(parse_card) cannot find card '0'\n",
      "ALSA lib conf.c:4745:(_snd_config_evaluate) function snd_func_card_driver returned error: No such file or directory\n",
      "ALSA lib confmisc.c:392:(snd_func_concat) error evaluating strings\n",
      "ALSA lib conf.c:4745:(_snd_config_evaluate) function snd_func_concat returned error: No such file or directory\n",
      "ALSA lib confmisc.c:1246:(snd_func_refer) error evaluating name\n",
      "ALSA lib conf.c:4745:(_snd_config_evaluate) function snd_func_refer returned error: No such file or directory\n",
      "ALSA lib conf.c:5233:(snd_config_expand) Evaluate error: No such file or directory\n",
      "ALSA lib pcm.c:2660:(snd_pcm_open_noupdate) Unknown PCM default\n",
      "ALSA lib confmisc.c:767:(parse_card) cannot find card '0'\n",
      "ALSA lib conf.c:4745:(_snd_config_evaluate) function snd_func_card_driver returned error: No such file or directory\n",
      "ALSA lib confmisc.c:392:(snd_func_concat) error evaluating strings\n",
      "ALSA lib conf.c:4745:(_snd_config_evaluate) function snd_func_concat returned error: No such file or directory\n",
      "ALSA lib confmisc.c:1246:(snd_func_refer) error evaluating name\n",
      "ALSA lib conf.c:4745:(_snd_config_evaluate) function snd_func_refer returned error: No such file or directory\n",
      "ALSA lib conf.c:5233:(snd_config_expand) Evaluate error: No such file or directory\n",
      "ALSA lib pcm.c:2660:(snd_pcm_open_noupdate) Unknown PCM dmix\n"
     ]
    },
    {
     "ename": "OSError",
     "evalue": "No Default Input Device Available",
     "output_type": "error",
     "traceback": [
      "\u001b[0;31m---------------------------------------------------------------------------\u001b[0m",
      "\u001b[0;31mOSError\u001b[0m                                   Traceback (most recent call last)",
      "\u001b[0;32m/tmp/ipykernel_6163/2874048916.py\u001b[0m in \u001b[0;36m<module>\u001b[0;34m\u001b[0m\n\u001b[0;32m----> 1\u001b[0;31m \u001b[0mmicph\u001b[0m \u001b[0;34m=\u001b[0m \u001b[0msr\u001b[0m\u001b[0;34m.\u001b[0m\u001b[0mMicrophone\u001b[0m\u001b[0;34m(\u001b[0m\u001b[0;34m)\u001b[0m\u001b[0;34m\u001b[0m\u001b[0;34m\u001b[0m\u001b[0m\n\u001b[0m\u001b[1;32m      2\u001b[0m \u001b[0;32mwith\u001b[0m \u001b[0mmicph\u001b[0m \u001b[0;32mas\u001b[0m \u001b[0msource\u001b[0m\u001b[0;34m:\u001b[0m\u001b[0;34m\u001b[0m\u001b[0;34m\u001b[0m\u001b[0m\n\u001b[1;32m      3\u001b[0m \u001b[0;34m\u001b[0m\u001b[0m\n\u001b[1;32m      4\u001b[0m  \u001b[0mprint\u001b[0m\u001b[0;34m(\u001b[0m\u001b[0;34m\"You can now speak\"\u001b[0m\u001b[0;34m)\u001b[0m\u001b[0;34m\u001b[0m\u001b[0;34m\u001b[0m\u001b[0m\n\u001b[1;32m      5\u001b[0m \u001b[0;34m\u001b[0m\u001b[0m\n",
      "\u001b[0;32m~/anaconda3/envs/chatbot/lib/python3.7/site-packages/speech_recognition/__init__.py\u001b[0m in \u001b[0;36m__init__\u001b[0;34m(self, device_index, sample_rate, chunk_size)\u001b[0m\n\u001b[1;32m     84\u001b[0m                 \u001b[0;32massert\u001b[0m \u001b[0;36m0\u001b[0m \u001b[0;34m<=\u001b[0m \u001b[0mdevice_index\u001b[0m \u001b[0;34m<\u001b[0m \u001b[0mcount\u001b[0m\u001b[0;34m,\u001b[0m \u001b[0;34m\"Device index out of range ({} devices available; device index should be between 0 and {} inclusive)\"\u001b[0m\u001b[0;34m.\u001b[0m\u001b[0mformat\u001b[0m\u001b[0;34m(\u001b[0m\u001b[0mcount\u001b[0m\u001b[0;34m,\u001b[0m \u001b[0mcount\u001b[0m \u001b[0;34m-\u001b[0m \u001b[0;36m1\u001b[0m\u001b[0;34m)\u001b[0m\u001b[0;34m\u001b[0m\u001b[0;34m\u001b[0m\u001b[0m\n\u001b[1;32m     85\u001b[0m             \u001b[0;32mif\u001b[0m \u001b[0msample_rate\u001b[0m \u001b[0;32mis\u001b[0m \u001b[0;32mNone\u001b[0m\u001b[0;34m:\u001b[0m  \u001b[0;31m# automatically set the sample rate to the hardware's default sample rate if not specified\u001b[0m\u001b[0;34m\u001b[0m\u001b[0;34m\u001b[0m\u001b[0m\n\u001b[0;32m---> 86\u001b[0;31m                 \u001b[0mdevice_info\u001b[0m \u001b[0;34m=\u001b[0m \u001b[0maudio\u001b[0m\u001b[0;34m.\u001b[0m\u001b[0mget_device_info_by_index\u001b[0m\u001b[0;34m(\u001b[0m\u001b[0mdevice_index\u001b[0m\u001b[0;34m)\u001b[0m \u001b[0;32mif\u001b[0m \u001b[0mdevice_index\u001b[0m \u001b[0;32mis\u001b[0m \u001b[0;32mnot\u001b[0m \u001b[0;32mNone\u001b[0m \u001b[0;32melse\u001b[0m \u001b[0maudio\u001b[0m\u001b[0;34m.\u001b[0m\u001b[0mget_default_input_device_info\u001b[0m\u001b[0;34m(\u001b[0m\u001b[0;34m)\u001b[0m\u001b[0;34m\u001b[0m\u001b[0;34m\u001b[0m\u001b[0m\n\u001b[0m\u001b[1;32m     87\u001b[0m                 \u001b[0;32massert\u001b[0m \u001b[0misinstance\u001b[0m\u001b[0;34m(\u001b[0m\u001b[0mdevice_info\u001b[0m\u001b[0;34m.\u001b[0m\u001b[0mget\u001b[0m\u001b[0;34m(\u001b[0m\u001b[0;34m\"defaultSampleRate\"\u001b[0m\u001b[0;34m)\u001b[0m\u001b[0;34m,\u001b[0m \u001b[0;34m(\u001b[0m\u001b[0mfloat\u001b[0m\u001b[0;34m,\u001b[0m \u001b[0mint\u001b[0m\u001b[0;34m)\u001b[0m\u001b[0;34m)\u001b[0m \u001b[0;32mand\u001b[0m \u001b[0mdevice_info\u001b[0m\u001b[0;34m[\u001b[0m\u001b[0;34m\"defaultSampleRate\"\u001b[0m\u001b[0;34m]\u001b[0m \u001b[0;34m>\u001b[0m \u001b[0;36m0\u001b[0m\u001b[0;34m,\u001b[0m \u001b[0;34m\"Invalid device info returned from PyAudio: {}\"\u001b[0m\u001b[0;34m.\u001b[0m\u001b[0mformat\u001b[0m\u001b[0;34m(\u001b[0m\u001b[0mdevice_info\u001b[0m\u001b[0;34m)\u001b[0m\u001b[0;34m\u001b[0m\u001b[0;34m\u001b[0m\u001b[0m\n\u001b[1;32m     88\u001b[0m                 \u001b[0msample_rate\u001b[0m \u001b[0;34m=\u001b[0m \u001b[0mint\u001b[0m\u001b[0;34m(\u001b[0m\u001b[0mdevice_info\u001b[0m\u001b[0;34m[\u001b[0m\u001b[0;34m\"defaultSampleRate\"\u001b[0m\u001b[0;34m]\u001b[0m\u001b[0;34m)\u001b[0m\u001b[0;34m\u001b[0m\u001b[0;34m\u001b[0m\u001b[0m\n",
      "\u001b[0;32m~/anaconda3/envs/chatbot/lib/python3.7/site-packages/pyaudio.py\u001b[0m in \u001b[0;36mget_default_input_device_info\u001b[0;34m(self)\u001b[0m\n\u001b[1;32m    947\u001b[0m         \"\"\"\n\u001b[1;32m    948\u001b[0m \u001b[0;34m\u001b[0m\u001b[0m\n\u001b[0;32m--> 949\u001b[0;31m         \u001b[0mdevice_index\u001b[0m \u001b[0;34m=\u001b[0m \u001b[0mpa\u001b[0m\u001b[0;34m.\u001b[0m\u001b[0mget_default_input_device\u001b[0m\u001b[0;34m(\u001b[0m\u001b[0;34m)\u001b[0m\u001b[0;34m\u001b[0m\u001b[0;34m\u001b[0m\u001b[0m\n\u001b[0m\u001b[1;32m    950\u001b[0m         \u001b[0;32mreturn\u001b[0m \u001b[0mself\u001b[0m\u001b[0;34m.\u001b[0m\u001b[0mget_device_info_by_index\u001b[0m\u001b[0;34m(\u001b[0m\u001b[0mdevice_index\u001b[0m\u001b[0;34m)\u001b[0m\u001b[0;34m\u001b[0m\u001b[0;34m\u001b[0m\u001b[0m\n\u001b[1;32m    951\u001b[0m \u001b[0;34m\u001b[0m\u001b[0m\n",
      "\u001b[0;31mOSError\u001b[0m: No Default Input Device Available"
     ]
    }
   ],
   "source": [
    "micph = sr.Microphone()\n",
    "with micph as source:\n",
    "\n",
    " print(\"You can now speak\")\n",
    "\n",
    " r.adjust_for_ambient_noise(source)\n",
    "\n",
    " audio = r.listen(source)\n",
    "\n",
    "print(\"Translating your speech...\")\n",
    "\n",
    "print(\"You said: \" + r.recognize_google(audio))"
   ]
  },
  {
   "cell_type": "code",
   "execution_count": 158,
   "id": "06c7244a",
   "metadata": {},
   "outputs": [],
   "source": [
    "listener = sr.Recognizer()\n",
    "try:\n",
    "    with sr.Microphone() as source:\n",
    "        voice = listener.listen(source)\n",
    "        rec = listener.recognize_google(voice)\n",
    "        pint(rec)\n",
    "except:\n",
    "    pass\n"
   ]
  },
  {
   "cell_type": "markdown",
   "id": "b7e1f8d0",
   "metadata": {},
   "source": [
    "# Todo"
   ]
  },
  {
   "cell_type": "code",
   "execution_count": 149,
   "id": "1b2aea2b",
   "metadata": {},
   "outputs": [],
   "source": [
    "class my_bot:\n",
    "    def __init__(self, name='IA'):\n",
    "        # Nuestro chatBot\n",
    "        self.chatbot = ChatBot(name, logic_adapters=['chatterbot.logic.MathematicalEvaluation', 'chatterbot.logic.BestMatch'])\n",
    "        # Text_to_speech\n",
    "        self.tts_train_symbols()\n",
    "        self.tok = self.tts_token()\n",
    "        \n",
    "    def chatbot_basic_train(self):\n",
    "        # Entrenamiento básico (compus)\n",
    "        trainer = ChatterBotCorpusTrainer(self.chatbot)\n",
    "        trainer.train(\n",
    "            \"chatterbot.corpus.spanish.greetings\",\n",
    "            \"chatterbot.corpus.spanish.conversations\")\n",
    "        \n",
    "    def chatbot_spec_train(self, filename):\n",
    "        # Entrenamiento específico\n",
    "        train_list = open(filename, 'r').readlines()\n",
    "        trainer = ListTrainer(self.chatbot)\n",
    "        trainer.train(['Hola', '¿Que tal?', \n",
    "               'tengo una pregunta', 'si, dime', \n",
    "               '¿Como es la estructura del bucle for?', 'Sería con for(i in range(): y lo que quieras dentro del bucle)',\n",
    "               'Gracias', 'De nada'])\n",
    "        \n",
    "    def chatbot_forget(self):\n",
    "        self.chatbot.storage.drop()\n",
    "        \n",
    "    def chatbot_response(self, query):\n",
    "        response = self.chatbot.get_response(query)\n",
    "        return response\n",
    "    \n",
    "    def tts_train_symbols(self):\n",
    "        cod_text = [(\",\", \"coma,\"), \n",
    "                    (\".\", \"punto,\"), \n",
    "                    (\";\", \"punto y coma,\"), \n",
    "                    (\":\", \"dos puntos,\"), \n",
    "                    (\"(\", \"abrimos paréntesis,\"),\n",
    "                    (\")\", \"cerramos paréntesis,\")]\n",
    "        for item in cod_text:\n",
    "            gtts.tokenizer.symbols.SUB_PAIRS.append(item)\n",
    "            \n",
    "    def tts_token(self):\n",
    "        return gtts.tokenizer.core.Tokenizer([\n",
    "            tokenizer_cases.tone_marks,\n",
    "            tokenizer_cases.period_comma,\n",
    "            tokenizer_cases.other_punctuation])\n",
    "    \n",
    "    def chatbot_response_to_mp3(self, query, filename):\n",
    "        response = self.chatbot_response(query)\n",
    "        query = pre_processors.word_sub(response.text)\n",
    "        gtts = gTTS(text=query, lang='es', tokenizer_func=self.tok)\n",
    "        gtts.save(filename) \n",
    "        \n",
    "    def listen()"
   ]
  },
  {
   "cell_type": "code",
   "execution_count": null,
   "id": "089ec7ed",
   "metadata": {},
   "outputs": [],
   "source": []
  },
  {
   "cell_type": "code",
   "execution_count": null,
   "id": "4328f2af",
   "metadata": {},
   "outputs": [],
   "source": []
  },
  {
   "cell_type": "code",
   "execution_count": 154,
   "id": "409eed80",
   "metadata": {},
   "outputs": [
    {
     "name": "stdout",
     "output_type": "stream",
     "text": [
      "Training greetings.yml: [####################] 100%\n",
      "Training conversations.yml: [####################] 100%\n"
     ]
    }
   ],
   "source": [
    "bot = my_bot()\n",
    "bot.chatbot_basic_train()\n",
    "bot.chatbot_response_to_mp3('Hola, ¿qué tal?', 'test.mp3')"
   ]
  },
  {
   "cell_type": "code",
   "execution_count": null,
   "id": "f5524b07",
   "metadata": {},
   "outputs": [],
   "source": [
    "b"
   ]
  }
 ],
 "metadata": {
  "kernelspec": {
   "display_name": "Python 3 (ipykernel)",
   "language": "python",
   "name": "python3"
  },
  "language_info": {
   "codemirror_mode": {
    "name": "ipython",
    "version": 3
   },
   "file_extension": ".py",
   "mimetype": "text/x-python",
   "name": "python",
   "nbconvert_exporter": "python",
   "pygments_lexer": "ipython3",
   "version": "3.7.11"
  }
 },
 "nbformat": 4,
 "nbformat_minor": 5
}
