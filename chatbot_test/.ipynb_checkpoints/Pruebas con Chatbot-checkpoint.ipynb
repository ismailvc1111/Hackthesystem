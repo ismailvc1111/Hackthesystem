{
 "cells": [
  {
   "cell_type": "markdown",
   "id": "da165676",
   "metadata": {},
   "source": [
    "# Chatbot y Text-To-Speech"
   ]
  },
  {
   "cell_type": "markdown",
   "id": "35da6ee5",
   "metadata": {},
   "source": [
    "* Bibliotecas necesarias para la ejecución del código"
   ]
  },
  {
   "cell_type": "code",
   "execution_count": 11,
   "id": "36aaca61",
   "metadata": {},
   "outputs": [],
   "source": [
    "# Python 3.7\n",
    "#!pip install chatterbot\n",
    "#!pip install chatterbot_corpus\n",
    "#!pip install gtts\n",
    "#!python3 -m spacy download es\n",
    "#!pip install spacy==2.3.5\n",
    "#!python -m spacy download es_core_news_lg"
   ]
  },
  {
   "cell_type": "markdown",
   "id": "99730b67",
   "metadata": {},
   "source": [
    "## La clase principal"
   ]
  },
  {
   "cell_type": "code",
   "execution_count": 13,
   "id": "06480f52",
   "metadata": {},
   "outputs": [],
   "source": [
    "import os\n",
    "# Chatterbot\n",
    "from chatterbot import ChatBot\n",
    "from chatterbot.trainers import ListTrainer, ChatterBotCorpusTrainer\n",
    "import es_core_news_lg\n",
    "nlp = es_core_news_lg.load()\n",
    "# TTS\n",
    "from gtts import gTTS\n",
    "from gtts.tokenizer import pre_processors, tokenizer_cases\n",
    "import gtts.tokenizer.symbols\n",
    "\n",
    "class My_bot:\n",
    "    def __init__(self, name='IA'):\n",
    "        # Nuestro chatBot\n",
    "        self.chatbot = ChatBot(name, logic_adapters=['chatterbot.logic.MathematicalEvaluation', 'chatterbot.logic.BestMatch'])\n",
    "        self.chatbot_forget()\n",
    "        # Text_to_speech\n",
    "        #self.tts_train_symbols()\n",
    "        self.tok = self.tts_token()\n",
    "        \n",
    "    def chatbot_basic_train(self):\n",
    "        # Entrenamiento básico (compus)\n",
    "        trainer = ChatterBotCorpusTrainer(self.chatbot)\n",
    "        trainer.train(\n",
    "            \"chatterbot.corpus.spanish.greetings\",\n",
    "            \"chatterbot.corpus.spanish.conversations\"\n",
    "        )\n",
    "        \n",
    "    def chatbot_spec_train(self, filename='./specific_train/custom.yml'):\n",
    "        # Entrenamiento específico\n",
    "        trainer = ChatterBotCorpusTrainer(self.chatbot)\n",
    "        trainer.train(filename)\n",
    "        \n",
    "    def chatbot_forget(self):\n",
    "        self.chatbot.storage.drop()\n",
    "        \n",
    "    def chatbot_response(self, query):\n",
    "        response = self.chatbot.get_response(query)\n",
    "        return response\n",
    "    \n",
    "    # ---------- Específico para comentar código (future work) ----\n",
    "    def tts_train_symbols(self):\n",
    "        cod_text = [(\",\", \"coma,\"), \n",
    "                    (\".\", \"punto,\"), \n",
    "                    (\";\", \"punto y coma,\"), \n",
    "                    (\":\", \"dos puntos,\"), \n",
    "                    (\"(\", \"abrimos paréntesis,\"),\n",
    "                    (\")\", \"cerramos paréntesis,\"),\n",
    "                    (\"[\", \"abrimos corchertes,\"),\n",
    "                    (\"]\", \"cerramos corchetes,\")]\n",
    "        for item in cod_text:\n",
    "            gtts.tokenizer.symbols.SUB_PAIRS.append(item)\n",
    "    # -------------------------------------------------------------\n",
    "            \n",
    "    def tts_token(self):\n",
    "        return gtts.tokenizer.core.Tokenizer([\n",
    "            tokenizer_cases.tone_marks,\n",
    "            tokenizer_cases.period_comma,\n",
    "            tokenizer_cases.other_punctuation])\n",
    "    \n",
    "    def tts_say_this(self, string, filename='say.mp3'):\n",
    "        string = pre_processors.word_sub(string)\n",
    "        gtts = gTTS(text=string, lang='es')\n",
    "        gtts.save(filename) \n",
    "        \n",
    "    def chatbot_response_to_mp3(self, query, filename='response.mp3'):\n",
    "        response = self.chatbot_response(query)\n",
    "        print(response)\n",
    "        #query = pre_processors.word_sub(response.text)\n",
    "        gtts = gTTS(text=response.text, lang='es')\n",
    "        gtts.save(filename) \n",
    "        \n",
    "\n",
    "# Ejemplo de uso\n",
    "# bot = my_bot()\n",
    "# bot.chatbot_basic_train()\n",
    "# bot.chatbot_response_to_mp3('Hola, ¿qué tal?', 'test.mp3')"
   ]
  },
  {
   "cell_type": "markdown",
   "id": "5f9b71df",
   "metadata": {},
   "source": [
    "### Ejemplo ejercicio 1 - Code Soldier\n",
    "* La idea principal\n",
    "**Narrador:** Pregunta + posibles respuestas\n",
    "**chatbot:** Ayuda personalizada, se le puede pedir pistas, enlaces, etc"
   ]
  },
  {
   "cell_type": "code",
   "execution_count": 5,
   "id": "13399fe4",
   "metadata": {},
   "outputs": [
    {
     "name": "stdout",
     "output_type": "stream",
     "text": [
      "Training greetings.yml: [####################] 100%\n"
     ]
    }
   ],
   "source": [
    "# Iniciamos la clase my_bot\n",
    "bot = My_bot()\n",
    "bot.chatbot_forget()\n",
    "bot.chatbot_basic_train()"
   ]
  },
  {
   "cell_type": "code",
   "execution_count": 14,
   "id": "2af5d39d",
   "metadata": {},
   "outputs": [
    {
     "name": "stdout",
     "output_type": "stream",
     "text": [
      "Training ejercicio_1_Code_Soldier.yml: [####################] 100%\n"
     ]
    }
   ],
   "source": [
    "# Entrenamiento específico para el ejercicio 1 - (pistas, comentarios posibles, etc.)\n",
    "bot.chatbot_spec_train(filename='./specific_train/ejercicio_1_Code_Soldier.yml')"
   ]
  },
  {
   "cell_type": "markdown",
   "id": "c5ad6e72",
   "metadata": {},
   "source": [
    "El narrador se encarga de describir la pregunta (mediante TextToSpeech, guarda los archivos en formato mp3 por compatibildad en Front-End)"
   ]
  },
  {
   "cell_type": "code",
   "execution_count": 15,
   "id": "a3074bcd",
   "metadata": {},
   "outputs": [],
   "source": [
    "# Ejercicio 1 - ejercicio_1_Code_Soldier.yml\n",
    "bot.tts_say_this(\"¿Qué tipos de datos básicos existen en python?\", \"./audio/query.mp3\")"
   ]
  },
  {
   "cell_type": "code",
   "execution_count": 18,
   "id": "44551650",
   "metadata": {},
   "outputs": [],
   "source": [
    "# Las posibles respuestas\n",
    "bot.tts_say_this(\"Opción A: Números, caracteres y buleanos\", \"./audio/solA.mp3\")\n",
    "bot.tts_say_this(\"Opción B: Enteros y Cadenas de texto\", \"./audio/solB.mp3\")\n",
    "bot.tts_say_this(\"Opción C: Números y cadenas de texto\", \"./audio/solC.mp3\")"
   ]
  },
  {
   "cell_type": "markdown",
   "id": "e73eb925",
   "metadata": {},
   "source": [
    "Probamos el ChatterBot (en conjunto con TTS)"
   ]
  },
  {
   "cell_type": "code",
   "execution_count": 19,
   "id": "fd760f00",
   "metadata": {},
   "outputs": [],
   "source": [
    "text = \"Dame una pista\"\n",
    "bot.chatbot_response_to_mp3(text, filename='./audio/response.mp3')"
   ]
  },
  {
   "cell_type": "code",
   "execution_count": 20,
   "id": "1b5f25db",
   "metadata": {},
   "outputs": [],
   "source": [
    "text = \"¿Que tipo de datos númericos existen en python?\"\n",
    "bot.chatbot_response_to_mp3(text, filename='./audio/response.mp3')"
   ]
  },
  {
   "cell_type": "markdown",
   "id": "6a9bc862",
   "metadata": {},
   "source": [
    "## Future Works"
   ]
  },
  {
   "cell_type": "markdown",
   "id": "5890e4f1",
   "metadata": {},
   "source": [
    "### SpeechRecognition\n",
    "Reconocimiento de voz para la total implementación y facilitación de acceso a personas con capacidades disminuidas"
   ]
  },
  {
   "cell_type": "code",
   "execution_count": 21,
   "id": "2c774d8c",
   "metadata": {},
   "outputs": [],
   "source": [
    "# !pip install SpeechRecognition\n",
    "# !pip3 install pyaudio\n",
    "# !python3 -m pip install sounddevice && python3 -m sounddevice"
   ]
  },
  {
   "cell_type": "markdown",
   "id": "1bc8b35d",
   "metadata": {},
   "source": [
    "(Proyecto no acabado)"
   ]
  },
  {
   "cell_type": "code",
   "execution_count": null,
   "id": "522088ad",
   "metadata": {},
   "outputs": [],
   "source": [
    "import speech_recognition as sr\n",
    "import pyaudio"
   ]
  },
  {
   "cell_type": "code",
   "execution_count": null,
   "id": "064cee05",
   "metadata": {},
   "outputs": [],
   "source": [
    "def listen():\n",
    "    \n",
    "    r = sr.Recognizer()\n",
    "    with sr.Microphone() as source:\n",
    "        print(\"Ahora puedes hablar\")\n",
    "        r.adjust_for_ambient_noise(source)\n",
    "        audio = r.listen(source)\n",
    "        \n",
    "    print(\"Translating your speech...\")\n",
    "    r.recognize_google(audio, language='es-ES')\n",
    "    print(\"You said: \" + r.recognize_google(audio))"
   ]
  },
  {
   "cell_type": "markdown",
   "id": "33411865",
   "metadata": {},
   "source": [
    "### Implantación de SST para código\n",
    "Proyecto de futuro para la implementación de código guiado por voz, con el uso de enfasis oral en los distintos signos de puntuación o tabulación (importante para el mundo de la programación)"
   ]
  },
  {
   "cell_type": "code",
   "execution_count": 10,
   "id": "e2803224",
   "metadata": {},
   "outputs": [],
   "source": [
    "#\n",
    "#    cod_text = [(\",\", \"coma,\"), \n",
    "#                (\".\", \"punto,\"), \n",
    "#                (\";\", \"punto y coma,\"), \n",
    "#                (\":\", \"dos puntos,\"), \n",
    "#                (\"(\", \"abrimos paréntesis,\"),\n",
    "#                (\")\", \"cerramos paréntesis,\"),\n",
    "#                (\"[\", \"abrimos corchertes,\"),\n",
    "#                (\"]\", \"cerramos corchetes,\")]\n",
    "#    for item in cod_text:\n",
    "#        gtts.tokenizer.symbols.SUB_PAIRS.append(item)\n",
    "#"
   ]
  },
  {
   "cell_type": "code",
   "execution_count": null,
   "id": "6e163d0d",
   "metadata": {},
   "outputs": [],
   "source": []
  }
 ],
 "metadata": {
  "kernelspec": {
   "display_name": "Python 3 (ipykernel)",
   "language": "python",
   "name": "python3"
  },
  "language_info": {
   "codemirror_mode": {
    "name": "ipython",
    "version": 3
   },
   "file_extension": ".py",
   "mimetype": "text/x-python",
   "name": "python",
   "nbconvert_exporter": "python",
   "pygments_lexer": "ipython3",
   "version": "3.7.11"
  }
 },
 "nbformat": 4,
 "nbformat_minor": 5
}
