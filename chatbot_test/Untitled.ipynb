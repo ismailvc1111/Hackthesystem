{
 "cells": [
  {
   "cell_type": "code",
   "execution_count": 80,
   "id": "fe32aa10",
   "metadata": {},
   "outputs": [
    {
     "name": "stdout",
     "output_type": "stream",
     "text": [
      "Requirement already satisfied: chatterbot in /home/tonyzetag/anaconda3/envs/chatbot/lib/python3.7/site-packages (1.0.8)\n",
      "Requirement already satisfied: mathparse<0.2,>=0.1 in /home/tonyzetag/anaconda3/envs/chatbot/lib/python3.7/site-packages (from chatterbot) (0.1.2)\n",
      "Requirement already satisfied: sqlalchemy<1.4,>=1.3 in /home/tonyzetag/anaconda3/envs/chatbot/lib/python3.7/site-packages (from chatterbot) (1.3.24)\n",
      "Requirement already satisfied: pytz in /home/tonyzetag/anaconda3/envs/chatbot/lib/python3.7/site-packages (from chatterbot) (2021.3)\n",
      "Requirement already satisfied: python-dateutil<2.9,>=2.8 in /home/tonyzetag/anaconda3/envs/chatbot/lib/python3.7/site-packages (from chatterbot) (2.8.2)\n",
      "Requirement already satisfied: six>=1.5 in /home/tonyzetag/anaconda3/envs/chatbot/lib/python3.7/site-packages (from python-dateutil<2.9,>=2.8->chatterbot) (1.16.0)\n",
      "Requirement already satisfied: chatterbot_corpus in /home/tonyzetag/anaconda3/envs/chatbot/lib/python3.7/site-packages (1.2.0)\n",
      "Requirement already satisfied: PyYAML<4.0,>=3.12 in /home/tonyzetag/anaconda3/envs/chatbot/lib/python3.7/site-packages (from chatterbot_corpus) (3.13)\n",
      "Collecting es_core_news_sm==2.3.1\n",
      "  Downloading https://github.com/explosion/spacy-models/releases/download/es_core_news_sm-2.3.1/es_core_news_sm-2.3.1.tar.gz (16.2 MB)\n",
      "\u001b[K     |████████████████████████████████| 16.2 MB 4.2 MB/s eta 0:00:01\n",
      "\u001b[?25hRequirement already satisfied: spacy<2.4.0,>=2.3.0 in /home/tonyzetag/anaconda3/envs/chatbot/lib/python3.7/site-packages (from es_core_news_sm==2.3.1) (2.3.5)\n",
      "Requirement already satisfied: tqdm<5.0.0,>=4.38.0 in /home/tonyzetag/anaconda3/envs/chatbot/lib/python3.7/site-packages (from spacy<2.4.0,>=2.3.0->es_core_news_sm==2.3.1) (4.62.3)\n",
      "Requirement already satisfied: murmurhash<1.1.0,>=0.28.0 in /home/tonyzetag/anaconda3/envs/chatbot/lib/python3.7/site-packages (from spacy<2.4.0,>=2.3.0->es_core_news_sm==2.3.1) (1.0.6)\n",
      "Requirement already satisfied: plac<1.2.0,>=0.9.6 in /home/tonyzetag/anaconda3/envs/chatbot/lib/python3.7/site-packages (from spacy<2.4.0,>=2.3.0->es_core_news_sm==2.3.1) (1.1.3)\n",
      "Requirement already satisfied: catalogue<1.1.0,>=0.0.7 in /home/tonyzetag/anaconda3/envs/chatbot/lib/python3.7/site-packages (from spacy<2.4.0,>=2.3.0->es_core_news_sm==2.3.1) (1.0.0)\n",
      "Requirement already satisfied: preshed<3.1.0,>=3.0.2 in /home/tonyzetag/anaconda3/envs/chatbot/lib/python3.7/site-packages (from spacy<2.4.0,>=2.3.0->es_core_news_sm==2.3.1) (3.0.6)\n",
      "Requirement already satisfied: blis<0.8.0,>=0.4.0 in /home/tonyzetag/anaconda3/envs/chatbot/lib/python3.7/site-packages (from spacy<2.4.0,>=2.3.0->es_core_news_sm==2.3.1) (0.7.5)\n",
      "Requirement already satisfied: setuptools in /home/tonyzetag/anaconda3/envs/chatbot/lib/python3.7/site-packages (from spacy<2.4.0,>=2.3.0->es_core_news_sm==2.3.1) (58.0.4)\n",
      "Requirement already satisfied: thinc<7.5.0,>=7.4.1 in /home/tonyzetag/anaconda3/envs/chatbot/lib/python3.7/site-packages (from spacy<2.4.0,>=2.3.0->es_core_news_sm==2.3.1) (7.4.5)\n",
      "Requirement already satisfied: srsly<1.1.0,>=1.0.2 in /home/tonyzetag/anaconda3/envs/chatbot/lib/python3.7/site-packages (from spacy<2.4.0,>=2.3.0->es_core_news_sm==2.3.1) (1.0.5)\n",
      "Requirement already satisfied: numpy>=1.15.0 in /home/tonyzetag/anaconda3/envs/chatbot/lib/python3.7/site-packages (from spacy<2.4.0,>=2.3.0->es_core_news_sm==2.3.1) (1.20.3)\n",
      "Requirement already satisfied: requests<3.0.0,>=2.13.0 in /home/tonyzetag/anaconda3/envs/chatbot/lib/python3.7/site-packages (from spacy<2.4.0,>=2.3.0->es_core_news_sm==2.3.1) (2.26.0)\n",
      "Requirement already satisfied: cymem<2.1.0,>=2.0.2 in /home/tonyzetag/anaconda3/envs/chatbot/lib/python3.7/site-packages (from spacy<2.4.0,>=2.3.0->es_core_news_sm==2.3.1) (2.0.6)\n",
      "Requirement already satisfied: wasabi<1.1.0,>=0.4.0 in /home/tonyzetag/anaconda3/envs/chatbot/lib/python3.7/site-packages (from spacy<2.4.0,>=2.3.0->es_core_news_sm==2.3.1) (0.9.0)\n",
      "Requirement already satisfied: importlib-metadata>=0.20 in /home/tonyzetag/anaconda3/envs/chatbot/lib/python3.7/site-packages (from catalogue<1.1.0,>=0.0.7->spacy<2.4.0,>=2.3.0->es_core_news_sm==2.3.1) (4.8.2)\n",
      "Requirement already satisfied: zipp>=0.5 in /home/tonyzetag/anaconda3/envs/chatbot/lib/python3.7/site-packages (from importlib-metadata>=0.20->catalogue<1.1.0,>=0.0.7->spacy<2.4.0,>=2.3.0->es_core_news_sm==2.3.1) (3.6.0)\n",
      "Requirement already satisfied: typing-extensions>=3.6.4 in /home/tonyzetag/anaconda3/envs/chatbot/lib/python3.7/site-packages (from importlib-metadata>=0.20->catalogue<1.1.0,>=0.0.7->spacy<2.4.0,>=2.3.0->es_core_news_sm==2.3.1) (3.10.0.2)\n",
      "Requirement already satisfied: certifi>=2017.4.17 in /home/tonyzetag/anaconda3/envs/chatbot/lib/python3.7/site-packages (from requests<3.0.0,>=2.13.0->spacy<2.4.0,>=2.3.0->es_core_news_sm==2.3.1) (2021.10.8)\n",
      "Requirement already satisfied: charset-normalizer~=2.0.0 in /home/tonyzetag/anaconda3/envs/chatbot/lib/python3.7/site-packages (from requests<3.0.0,>=2.13.0->spacy<2.4.0,>=2.3.0->es_core_news_sm==2.3.1) (2.0.4)\n",
      "Requirement already satisfied: idna<4,>=2.5 in /home/tonyzetag/anaconda3/envs/chatbot/lib/python3.7/site-packages (from requests<3.0.0,>=2.13.0->spacy<2.4.0,>=2.3.0->es_core_news_sm==2.3.1) (3.3)\n",
      "Requirement already satisfied: urllib3<1.27,>=1.21.1 in /home/tonyzetag/anaconda3/envs/chatbot/lib/python3.7/site-packages (from requests<3.0.0,>=2.13.0->spacy<2.4.0,>=2.3.0->es_core_news_sm==2.3.1) (1.26.7)\n",
      "\u001b[38;5;2m✔ Download and installation successful\u001b[0m\n",
      "You can now load the model via spacy.load('es_core_news_sm')\n",
      "\u001b[38;5;2m✔ Linking successful\u001b[0m\n",
      "/home/tonyzetag/anaconda3/envs/chatbot/lib/python3.7/site-packages/es_core_news_sm\n",
      "-->\n",
      "/home/tonyzetag/anaconda3/envs/chatbot/lib/python3.7/site-packages/spacy/data/es\n",
      "You can now load the model via spacy.load('es')\n",
      "Requirement already satisfied: spacy==2.3.5 in /home/tonyzetag/anaconda3/envs/chatbot/lib/python3.7/site-packages (2.3.5)\n",
      "Requirement already satisfied: cymem<2.1.0,>=2.0.2 in /home/tonyzetag/anaconda3/envs/chatbot/lib/python3.7/site-packages (from spacy==2.3.5) (2.0.6)\n",
      "Requirement already satisfied: catalogue<1.1.0,>=0.0.7 in /home/tonyzetag/anaconda3/envs/chatbot/lib/python3.7/site-packages (from spacy==2.3.5) (1.0.0)\n",
      "Requirement already satisfied: wasabi<1.1.0,>=0.4.0 in /home/tonyzetag/anaconda3/envs/chatbot/lib/python3.7/site-packages (from spacy==2.3.5) (0.9.0)\n",
      "Requirement already satisfied: srsly<1.1.0,>=1.0.2 in /home/tonyzetag/anaconda3/envs/chatbot/lib/python3.7/site-packages (from spacy==2.3.5) (1.0.5)\n",
      "Requirement already satisfied: tqdm<5.0.0,>=4.38.0 in /home/tonyzetag/anaconda3/envs/chatbot/lib/python3.7/site-packages (from spacy==2.3.5) (4.62.3)\n",
      "Requirement already satisfied: setuptools in /home/tonyzetag/anaconda3/envs/chatbot/lib/python3.7/site-packages (from spacy==2.3.5) (58.0.4)\n",
      "Requirement already satisfied: murmurhash<1.1.0,>=0.28.0 in /home/tonyzetag/anaconda3/envs/chatbot/lib/python3.7/site-packages (from spacy==2.3.5) (1.0.6)\n",
      "Requirement already satisfied: thinc<7.5.0,>=7.4.1 in /home/tonyzetag/anaconda3/envs/chatbot/lib/python3.7/site-packages (from spacy==2.3.5) (7.4.5)\n",
      "Requirement already satisfied: plac<1.2.0,>=0.9.6 in /home/tonyzetag/anaconda3/envs/chatbot/lib/python3.7/site-packages (from spacy==2.3.5) (1.1.3)\n",
      "Requirement already satisfied: numpy>=1.15.0 in /home/tonyzetag/anaconda3/envs/chatbot/lib/python3.7/site-packages (from spacy==2.3.5) (1.20.3)\n",
      "Requirement already satisfied: preshed<3.1.0,>=3.0.2 in /home/tonyzetag/anaconda3/envs/chatbot/lib/python3.7/site-packages (from spacy==2.3.5) (3.0.6)\n",
      "Requirement already satisfied: requests<3.0.0,>=2.13.0 in /home/tonyzetag/anaconda3/envs/chatbot/lib/python3.7/site-packages (from spacy==2.3.5) (2.26.0)\n",
      "Requirement already satisfied: blis<0.8.0,>=0.4.0 in /home/tonyzetag/anaconda3/envs/chatbot/lib/python3.7/site-packages (from spacy==2.3.5) (0.7.5)\n",
      "Requirement already satisfied: importlib-metadata>=0.20 in /home/tonyzetag/anaconda3/envs/chatbot/lib/python3.7/site-packages (from catalogue<1.1.0,>=0.0.7->spacy==2.3.5) (4.8.2)\n",
      "Requirement already satisfied: zipp>=0.5 in /home/tonyzetag/anaconda3/envs/chatbot/lib/python3.7/site-packages (from importlib-metadata>=0.20->catalogue<1.1.0,>=0.0.7->spacy==2.3.5) (3.6.0)\n",
      "Requirement already satisfied: typing-extensions>=3.6.4 in /home/tonyzetag/anaconda3/envs/chatbot/lib/python3.7/site-packages (from importlib-metadata>=0.20->catalogue<1.1.0,>=0.0.7->spacy==2.3.5) (3.10.0.2)\n",
      "Requirement already satisfied: urllib3<1.27,>=1.21.1 in /home/tonyzetag/anaconda3/envs/chatbot/lib/python3.7/site-packages (from requests<3.0.0,>=2.13.0->spacy==2.3.5) (1.26.7)\n",
      "Requirement already satisfied: charset-normalizer~=2.0.0 in /home/tonyzetag/anaconda3/envs/chatbot/lib/python3.7/site-packages (from requests<3.0.0,>=2.13.0->spacy==2.3.5) (2.0.4)\n",
      "Requirement already satisfied: idna<4,>=2.5 in /home/tonyzetag/anaconda3/envs/chatbot/lib/python3.7/site-packages (from requests<3.0.0,>=2.13.0->spacy==2.3.5) (3.3)\n",
      "Requirement already satisfied: certifi>=2017.4.17 in /home/tonyzetag/anaconda3/envs/chatbot/lib/python3.7/site-packages (from requests<3.0.0,>=2.13.0->spacy==2.3.5) (2021.10.8)\n"
     ]
    },
    {
     "name": "stdout",
     "output_type": "stream",
     "text": [
      "Collecting es_core_news_lg==2.3.1\n",
      "  Downloading https://github.com/explosion/spacy-models/releases/download/es_core_news_lg-2.3.1/es_core_news_lg-2.3.1.tar.gz (573.1 MB)\n",
      "\u001b[K     |████████████████████████████████| 573.1 MB 42.4 MB/s eta 0:00:01     |██████████████▋                 | 261.4 MB 1.9 MB/s eta 0:02:46     |████████████████████▊           | 370.4 MB 1.5 MB/s eta 0:02:18     |███████████████████████████▍    | 490.8 MB 2.2 MB/s eta 0:00:38     |████████████████████████████    | 500.7 MB 2.2 MB/s eta 0:00:34     |█████████████████████████████▉  | 534.8 MB 2.3 MB/s eta 0:00:17\n",
      "\u001b[?25hRequirement already satisfied: spacy<2.4.0,>=2.3.0 in /home/tonyzetag/anaconda3/envs/chatbot/lib/python3.7/site-packages (from es_core_news_lg==2.3.1) (2.3.5)\n",
      "Requirement already satisfied: cymem<2.1.0,>=2.0.2 in /home/tonyzetag/anaconda3/envs/chatbot/lib/python3.7/site-packages (from spacy<2.4.0,>=2.3.0->es_core_news_lg==2.3.1) (2.0.6)\n",
      "Requirement already satisfied: preshed<3.1.0,>=3.0.2 in /home/tonyzetag/anaconda3/envs/chatbot/lib/python3.7/site-packages (from spacy<2.4.0,>=2.3.0->es_core_news_lg==2.3.1) (3.0.6)\n",
      "Requirement already satisfied: wasabi<1.1.0,>=0.4.0 in /home/tonyzetag/anaconda3/envs/chatbot/lib/python3.7/site-packages (from spacy<2.4.0,>=2.3.0->es_core_news_lg==2.3.1) (0.9.0)\n",
      "Requirement already satisfied: requests<3.0.0,>=2.13.0 in /home/tonyzetag/anaconda3/envs/chatbot/lib/python3.7/site-packages (from spacy<2.4.0,>=2.3.0->es_core_news_lg==2.3.1) (2.26.0)\n",
      "Requirement already satisfied: catalogue<1.1.0,>=0.0.7 in /home/tonyzetag/anaconda3/envs/chatbot/lib/python3.7/site-packages (from spacy<2.4.0,>=2.3.0->es_core_news_lg==2.3.1) (1.0.0)\n",
      "Requirement already satisfied: numpy>=1.15.0 in /home/tonyzetag/anaconda3/envs/chatbot/lib/python3.7/site-packages (from spacy<2.4.0,>=2.3.0->es_core_news_lg==2.3.1) (1.20.3)\n",
      "Requirement already satisfied: tqdm<5.0.0,>=4.38.0 in /home/tonyzetag/anaconda3/envs/chatbot/lib/python3.7/site-packages (from spacy<2.4.0,>=2.3.0->es_core_news_lg==2.3.1) (4.62.3)\n",
      "Requirement already satisfied: plac<1.2.0,>=0.9.6 in /home/tonyzetag/anaconda3/envs/chatbot/lib/python3.7/site-packages (from spacy<2.4.0,>=2.3.0->es_core_news_lg==2.3.1) (1.1.3)\n",
      "Requirement already satisfied: thinc<7.5.0,>=7.4.1 in /home/tonyzetag/anaconda3/envs/chatbot/lib/python3.7/site-packages (from spacy<2.4.0,>=2.3.0->es_core_news_lg==2.3.1) (7.4.5)\n",
      "Requirement already satisfied: blis<0.8.0,>=0.4.0 in /home/tonyzetag/anaconda3/envs/chatbot/lib/python3.7/site-packages (from spacy<2.4.0,>=2.3.0->es_core_news_lg==2.3.1) (0.7.5)\n",
      "Requirement already satisfied: setuptools in /home/tonyzetag/anaconda3/envs/chatbot/lib/python3.7/site-packages (from spacy<2.4.0,>=2.3.0->es_core_news_lg==2.3.1) (58.0.4)\n",
      "Requirement already satisfied: srsly<1.1.0,>=1.0.2 in /home/tonyzetag/anaconda3/envs/chatbot/lib/python3.7/site-packages (from spacy<2.4.0,>=2.3.0->es_core_news_lg==2.3.1) (1.0.5)\n",
      "Requirement already satisfied: murmurhash<1.1.0,>=0.28.0 in /home/tonyzetag/anaconda3/envs/chatbot/lib/python3.7/site-packages (from spacy<2.4.0,>=2.3.0->es_core_news_lg==2.3.1) (1.0.6)\n",
      "Requirement already satisfied: importlib-metadata>=0.20 in /home/tonyzetag/anaconda3/envs/chatbot/lib/python3.7/site-packages (from catalogue<1.1.0,>=0.0.7->spacy<2.4.0,>=2.3.0->es_core_news_lg==2.3.1) (4.8.2)\n",
      "Requirement already satisfied: zipp>=0.5 in /home/tonyzetag/anaconda3/envs/chatbot/lib/python3.7/site-packages (from importlib-metadata>=0.20->catalogue<1.1.0,>=0.0.7->spacy<2.4.0,>=2.3.0->es_core_news_lg==2.3.1) (3.6.0)\n",
      "Requirement already satisfied: typing-extensions>=3.6.4 in /home/tonyzetag/anaconda3/envs/chatbot/lib/python3.7/site-packages (from importlib-metadata>=0.20->catalogue<1.1.0,>=0.0.7->spacy<2.4.0,>=2.3.0->es_core_news_lg==2.3.1) (3.10.0.2)\n",
      "Requirement already satisfied: idna<4,>=2.5 in /home/tonyzetag/anaconda3/envs/chatbot/lib/python3.7/site-packages (from requests<3.0.0,>=2.13.0->spacy<2.4.0,>=2.3.0->es_core_news_lg==2.3.1) (3.3)\n",
      "Requirement already satisfied: urllib3<1.27,>=1.21.1 in /home/tonyzetag/anaconda3/envs/chatbot/lib/python3.7/site-packages (from requests<3.0.0,>=2.13.0->spacy<2.4.0,>=2.3.0->es_core_news_lg==2.3.1) (1.26.7)\n",
      "Requirement already satisfied: charset-normalizer~=2.0.0 in /home/tonyzetag/anaconda3/envs/chatbot/lib/python3.7/site-packages (from requests<3.0.0,>=2.13.0->spacy<2.4.0,>=2.3.0->es_core_news_lg==2.3.1) (2.0.4)\n",
      "Requirement already satisfied: certifi>=2017.4.17 in /home/tonyzetag/anaconda3/envs/chatbot/lib/python3.7/site-packages (from requests<3.0.0,>=2.13.0->spacy<2.4.0,>=2.3.0->es_core_news_lg==2.3.1) (2021.10.8)\n",
      "Building wheels for collected packages: es-core-news-lg\n",
      "  Building wheel for es-core-news-lg (setup.py) ... \u001b[?25ldone\n",
      "\u001b[?25h  Created wheel for es-core-news-lg: filename=es_core_news_lg-2.3.1-py3-none-any.whl size=573139080 sha256=d9f8a4ad13857256f9317ce9e19f7de9b749de0f8b17ff1298eb53e3d1a89491\n",
      "  Stored in directory: /tmp/pip-ephem-wheel-cache-ve4wzrrs/wheels/a5/c7/e8/a49f20406fb1f1f557639d51ce800bdd12241f91e1f21f1e91\n",
      "Successfully built es-core-news-lg\n",
      "Installing collected packages: es-core-news-lg\n",
      "Successfully installed es-core-news-lg-2.3.1\n",
      "\u001b[38;5;2m✔ Download and installation successful\u001b[0m\n",
      "You can now load the model via spacy.load('es_core_news_lg')\n"
     ]
    }
   ],
   "source": [
    "!pip install chatterbot\n",
    "!pip install chatterbot_corpus\n",
    "!python3 -m spacy download es\n",
    "!pip install spacy==2.3.5\n",
    "!python -m spacy download es_core_news_lg"
   ]
  },
  {
   "cell_type": "code",
   "execution_count": 84,
   "id": "250951ff",
   "metadata": {},
   "outputs": [],
   "source": [
    "from chatterbot import ChatBot\n",
    "from chatterbot.trainers import ListTrainer\n",
    "from chatterbot.languages import SPA\n",
    "from spacy.lang.es import Spanish\n",
    "nlp = Spanish(path=None)\n",
    "import es_core_news_lg\n",
    "nlp = es_core_news_lg.load()"
   ]
  },
  {
   "cell_type": "code",
   "execution_count": 83,
   "id": "0966caea",
   "metadata": {},
   "outputs": [
    {
     "ename": "OSError",
     "evalue": "[E050] Can't find model 'es_core_news_lg'. It doesn't seem to be a shortcut link, a Python package or a valid path to a data directory.",
     "output_type": "error",
     "traceback": [
      "\u001b[0;31m---------------------------------------------------------------------------\u001b[0m",
      "\u001b[0;31mOSError\u001b[0m                                   Traceback (most recent call last)",
      "\u001b[0;32m/tmp/ipykernel_7400/658151932.py\u001b[0m in \u001b[0;36m<module>\u001b[0;34m\u001b[0m\n\u001b[1;32m      1\u001b[0m \u001b[0;32mimport\u001b[0m \u001b[0mspacy\u001b[0m\u001b[0;34m\u001b[0m\u001b[0;34m\u001b[0m\u001b[0m\n\u001b[0;32m----> 2\u001b[0;31m \u001b[0mnlp\u001b[0m \u001b[0;34m=\u001b[0m \u001b[0mspacy\u001b[0m\u001b[0;34m.\u001b[0m\u001b[0mload\u001b[0m\u001b[0;34m(\u001b[0m\u001b[0;34m\"es_core_news_lg\"\u001b[0m\u001b[0;34m)\u001b[0m\u001b[0;34m\u001b[0m\u001b[0;34m\u001b[0m\u001b[0m\n\u001b[0m",
      "\u001b[0;32m~/anaconda3/envs/chatbot/lib/python3.7/site-packages/spacy/__init__.py\u001b[0m in \u001b[0;36mload\u001b[0;34m(name, **overrides)\u001b[0m\n\u001b[1;32m     28\u001b[0m     \u001b[0;32mif\u001b[0m \u001b[0mdepr_path\u001b[0m \u001b[0;32mnot\u001b[0m \u001b[0;32min\u001b[0m \u001b[0;34m(\u001b[0m\u001b[0;32mTrue\u001b[0m\u001b[0;34m,\u001b[0m \u001b[0;32mFalse\u001b[0m\u001b[0;34m,\u001b[0m \u001b[0;32mNone\u001b[0m\u001b[0;34m)\u001b[0m\u001b[0;34m:\u001b[0m\u001b[0;34m\u001b[0m\u001b[0;34m\u001b[0m\u001b[0m\n\u001b[1;32m     29\u001b[0m         \u001b[0mwarnings\u001b[0m\u001b[0;34m.\u001b[0m\u001b[0mwarn\u001b[0m\u001b[0;34m(\u001b[0m\u001b[0mWarnings\u001b[0m\u001b[0;34m.\u001b[0m\u001b[0mW001\u001b[0m\u001b[0;34m.\u001b[0m\u001b[0mformat\u001b[0m\u001b[0;34m(\u001b[0m\u001b[0mpath\u001b[0m\u001b[0;34m=\u001b[0m\u001b[0mdepr_path\u001b[0m\u001b[0;34m)\u001b[0m\u001b[0;34m,\u001b[0m \u001b[0mDeprecationWarning\u001b[0m\u001b[0;34m)\u001b[0m\u001b[0;34m\u001b[0m\u001b[0;34m\u001b[0m\u001b[0m\n\u001b[0;32m---> 30\u001b[0;31m     \u001b[0;32mreturn\u001b[0m \u001b[0mutil\u001b[0m\u001b[0;34m.\u001b[0m\u001b[0mload_model\u001b[0m\u001b[0;34m(\u001b[0m\u001b[0mname\u001b[0m\u001b[0;34m,\u001b[0m \u001b[0;34m**\u001b[0m\u001b[0moverrides\u001b[0m\u001b[0;34m)\u001b[0m\u001b[0;34m\u001b[0m\u001b[0;34m\u001b[0m\u001b[0m\n\u001b[0m\u001b[1;32m     31\u001b[0m \u001b[0;34m\u001b[0m\u001b[0m\n\u001b[1;32m     32\u001b[0m \u001b[0;34m\u001b[0m\u001b[0m\n",
      "\u001b[0;32m~/anaconda3/envs/chatbot/lib/python3.7/site-packages/spacy/util.py\u001b[0m in \u001b[0;36mload_model\u001b[0;34m(name, **overrides)\u001b[0m\n\u001b[1;32m    173\u001b[0m     \u001b[0;32melif\u001b[0m \u001b[0mhasattr\u001b[0m\u001b[0;34m(\u001b[0m\u001b[0mname\u001b[0m\u001b[0;34m,\u001b[0m \u001b[0;34m\"exists\"\u001b[0m\u001b[0;34m)\u001b[0m\u001b[0;34m:\u001b[0m  \u001b[0;31m# Path or Path-like to model data\u001b[0m\u001b[0;34m\u001b[0m\u001b[0;34m\u001b[0m\u001b[0m\n\u001b[1;32m    174\u001b[0m         \u001b[0;32mreturn\u001b[0m \u001b[0mload_model_from_path\u001b[0m\u001b[0;34m(\u001b[0m\u001b[0mname\u001b[0m\u001b[0;34m,\u001b[0m \u001b[0;34m**\u001b[0m\u001b[0moverrides\u001b[0m\u001b[0;34m)\u001b[0m\u001b[0;34m\u001b[0m\u001b[0;34m\u001b[0m\u001b[0m\n\u001b[0;32m--> 175\u001b[0;31m     \u001b[0;32mraise\u001b[0m \u001b[0mIOError\u001b[0m\u001b[0;34m(\u001b[0m\u001b[0mErrors\u001b[0m\u001b[0;34m.\u001b[0m\u001b[0mE050\u001b[0m\u001b[0;34m.\u001b[0m\u001b[0mformat\u001b[0m\u001b[0;34m(\u001b[0m\u001b[0mname\u001b[0m\u001b[0;34m=\u001b[0m\u001b[0mname\u001b[0m\u001b[0;34m)\u001b[0m\u001b[0;34m)\u001b[0m\u001b[0;34m\u001b[0m\u001b[0;34m\u001b[0m\u001b[0m\n\u001b[0m\u001b[1;32m    176\u001b[0m \u001b[0;34m\u001b[0m\u001b[0m\n\u001b[1;32m    177\u001b[0m \u001b[0;34m\u001b[0m\u001b[0m\n",
      "\u001b[0;31mOSError\u001b[0m: [E050] Can't find model 'es_core_news_lg'. It doesn't seem to be a shortcut link, a Python package or a valid path to a data directory."
     ]
    }
   ],
   "source": [
    "import spacy\n",
    "nlp = spacy.load(\"es_core_news_lg\")"
   ]
  },
  {
   "cell_type": "code",
   "execution_count": 133,
   "id": "dda891ac",
   "metadata": {},
   "outputs": [],
   "source": [
    "chatbot = ChatBot(\"IA\")\n",
    "chatbot.storage.drop()"
   ]
  },
  {
   "cell_type": "code",
   "execution_count": 134,
   "id": "39562c73",
   "metadata": {},
   "outputs": [
    {
     "name": "stdout",
     "output_type": "stream",
     "text": [
      "Training greetings.yml: [####################] 100%\n",
      "Training conversations.yml: [####################] 100%\n",
      "List Trainer: [####################] 100%\n",
      "Hola\n"
     ]
    }
   ],
   "source": [
    "from chatterbot import ChatBot\n",
    "from chatterbot.trainers import ChatterBotCorpusTrainer\n",
    "from chatterbot.trainers import ListTrainer\n",
    "\n",
    "bot = ChatBot('IA', logic_adapters=['chatterbot.logic.MathematicalEvaluation', 'chatterbot.logic.BestMatch'])\n",
    "trainer = ChatterBotCorpusTrainer(bot)\n",
    "trainer.train(\n",
    "    \"chatterbot.corpus.spanish.greetings\",\n",
    "    \"chatterbot.corpus.spanish.conversations\"\n",
    ")\n",
    "\n",
    "lista = open('conoc.txt', 'r').readlines()\n",
    "\n",
    "trainer = ListTrainer(bot)\n",
    "trainer.train(['Hola', '¿Que tal?', \n",
    "               'tengo una pregunta', 'si, dime', \n",
    "               '¿Como es la estructura del bucle for?', 'Sería con for(i in range(): y lo que quieras dentro del bucle)',\n",
    "               'Gracias', 'De nada'])\n",
    "\n",
    "\n",
    "response = bot.get_response(\"Hola\")\n",
    "\n",
    "print(response)"
   ]
  },
  {
   "cell_type": "code",
   "execution_count": 142,
   "id": "3722f9e4",
   "metadata": {},
   "outputs": [
    {
     "name": "stdout",
     "output_type": "stream",
     "text": [
      "Sería con for(i in range(): y lo que quieras dentro del bucle)\n"
     ]
    }
   ],
   "source": [
    "response = bot.get_response(\"¿Como es la estructura del bucle?\")\n",
    "print(response)"
   ]
  },
  {
   "cell_type": "code",
   "execution_count": null,
   "id": "7e064b44",
   "metadata": {},
   "outputs": [],
   "source": []
  },
  {
   "cell_type": "code",
   "execution_count": null,
   "id": "5dd13689",
   "metadata": {},
   "outputs": [],
   "source": [
    "# txt\n",
    "# Hola\n",
    "# que tal\n",
    "# ciao\n",
    "# bye bye"
   ]
  }
 ],
 "metadata": {
  "kernelspec": {
   "display_name": "Python 3 (ipykernel)",
   "language": "python",
   "name": "python3"
  },
  "language_info": {
   "codemirror_mode": {
    "name": "ipython",
    "version": 3
   },
   "file_extension": ".py",
   "mimetype": "text/x-python",
   "name": "python",
   "nbconvert_exporter": "python",
   "pygments_lexer": "ipython3",
   "version": "3.7.11"
  }
 },
 "nbformat": 4,
 "nbformat_minor": 5
}
